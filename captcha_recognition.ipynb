{
  "nbformat": 4,
  "nbformat_minor": 0,
  "metadata": {
    "colab": {
      "name": "captcha_recognition.ipynb",
      "provenance": [],
      "toc_visible": true,
      "authorship_tag": "ABX9TyP/zP0keU2fVAvg75GvyPFe",
      "include_colab_link": true
    },
    "kernelspec": {
      "name": "python3",
      "display_name": "Python 3"
    }
  },
  "cells": [
    {
      "cell_type": "markdown",
      "metadata": {
        "id": "view-in-github",
        "colab_type": "text"
      },
      "source": [
        "<a href=\"https://colab.research.google.com/github/sestys/aicrowd_captcha/blob/main/captcha_recognition.ipynb\" target=\"_parent\"><img src=\"https://colab.research.google.com/assets/colab-badge.svg\" alt=\"Open In Colab\"/></a>"
      ]
    },
    {
      "cell_type": "code",
      "metadata": {
        "id": "2nYE3pkceOOX"
      },
      "source": [
        "!apt update"
      ],
      "execution_count": null,
      "outputs": []
    },
    {
      "cell_type": "code",
      "metadata": {
        "id": "7Camzc_Lenv6"
      },
      "source": [
        "!pip install numpy\n",
        "!pip install pandas\n",
        "!pip install scikit-learn\n",
        "!pip install textdistance\n",
        "!pip install pytorch\n",
        "!pip install tqdm"
      ],
      "execution_count": null,
      "outputs": []
    },
    {
      "cell_type": "code",
      "metadata": {
        "id": "fKVKWDqvfXKO"
      },
      "source": [
        "### Download data ###\n",
        "!rm -rf data\n",
        "!rm -f train.tar.gz test.tar.gz\n",
        "!mkdir data\n",
        "!wget https://datasets.aicrowd.com/default/aicrowd-practice-challenges/public/cptcha/v0.1/train.tar.gz\n",
        "!wget https://datasets.aicrowd.com/default/aicrowd-practice-challenges/public/cptcha/v0.1/test.tar.gz\n",
        "!wget https://datasets.aicrowd.com/default/aicrowd-practice-challenges/public/cptcha/v0.1/train_info.csv\n",
        "!wget https://datasets.aicrowd.com/default/aicrowd-practice-challenges/public/cptcha/v0.1/test_info.csv\n",
        "!mkdir data/train \n",
        "!mkdir data/test\n",
        "!tar -C data/ -xvzf train.tar.gz\n",
        "!tar -C data/ -xvzf test.tar.gz\n",
        "!mv train_info.csv data/train_info.csv\n",
        "!mv test_info.csv data/test_info.csv"
      ],
      "execution_count": null,
      "outputs": []
    },
    {
      "cell_type": "code",
      "metadata": {
        "id": "lt9Qy7UXez5C"
      },
      "source": [
        "import os\n",
        "import glob\n",
        "\n",
        "import numpy as np\n",
        "import pandas as pd\n",
        "import matplotlib.pyplot as plt\n",
        "\n",
        "import torch\n",
        "import torch.nn as nn\n",
        "import torch.nn.functional as F\n",
        "import torch.optim as optim\n",
        "from torch.utils.data import Dataset, DataLoader\n",
        "from torchvision import transforms\n",
        "\n",
        "import string\n",
        "from tqdm.notebook import tqdm\n",
        "import cv2\n",
        "from PIL import Image\n",
        "from sklearn.model_selection import train_test_split"
      ],
      "execution_count": 14,
      "outputs": []
    },
    {
      "cell_type": "markdown",
      "metadata": {
        "id": "TO1q1H4efoVs"
      },
      "source": [
        "# 1. Load Data"
      ]
    },
    {
      "cell_type": "code",
      "metadata": {
        "id": "XZGZw_gEfIh4"
      },
      "source": [
        "train_info_path = \"data/train_info.csv\"\n",
        "test_info_path = \"data/test_info.csv\"\n",
        "\n",
        "train_images_path = \"data/train/\"\n",
        "test_images_path = \"data/test/\"\n",
        "train_info = pd.read_csv(train_info_path)\n",
        "test_info = pd.read_csv(test_info_path)"
      ],
      "execution_count": 19,
      "outputs": []
    },
    {
      "cell_type": "code",
      "metadata": {
        "id": "z6ziWxydfQbY",
        "outputId": "6a3bfbec-8e46-4e64-bd37-4a2b310e8051",
        "colab": {
          "base_uri": "https://localhost:8080/",
          "height": 54
        }
      },
      "source": [
        "print('Train images:', len(glob.glob(train_images_path + '/*.png')))\n",
        "print('Test images:', len(glob.glob(test_images_path + '/*.png')))\n"
      ],
      "execution_count": 22,
      "outputs": [
        {
          "output_type": "stream",
          "text": [
            "Train images: 10000\n",
            "Test images: 5000\n"
          ],
          "name": "stdout"
        }
      ]
    },
    {
      "cell_type": "code",
      "metadata": {
        "id": "pM-YD8bnftas"
      },
      "source": [
        "def plot_image(img_path):\n",
        "    img = cv2.imread(img_path)\n",
        "    plt.imshow(img)"
      ],
      "execution_count": 23,
      "outputs": []
    },
    {
      "cell_type": "code",
      "metadata": {
        "id": "c6yOlj2Lfvw5"
      },
      "source": [
        "fig=plt.figure(figsize=(20,20))\n",
        "columns = 3\n",
        "rows = 3\n",
        "for i in range(1, columns*rows +1):\n",
        "    img = train_images_path + train_info['filename'][i]\n",
        "    label = train_info['label'][i]\n",
        "    fig.add_subplot(rows, columns, i)\n",
        "    plot_image(img)\n",
        "    print(label)\n",
        "plt.show()"
      ],
      "execution_count": null,
      "outputs": []
    },
    {
      "cell_type": "code",
      "metadata": {
        "id": "787VYLMChygR"
      },
      "source": [
        "X_train, X_val= train_test_split(train_info, test_size=0.1, random_state=42)"
      ],
      "execution_count": 26,
      "outputs": []
    },
    {
      "cell_type": "code",
      "metadata": {
        "id": "xdr6NwtsiPui",
        "outputId": "f3113897-0e85-47ba-c649-5339e74741ce",
        "colab": {
          "base_uri": "https://localhost:8080/",
          "height": 35
        }
      },
      "source": [
        "labels = [x for x in train_info['label']]\n",
        "labels = ''.join(labels)\n",
        "letters = sorted(list(set(labels)))\n",
        "len(letters) # 26 lower case + 26 upper case + 10 digits"
      ],
      "execution_count": 33,
      "outputs": [
        {
          "output_type": "execute_result",
          "data": {
            "text/plain": [
              "62"
            ]
          },
          "metadata": {
            "tags": []
          },
          "execution_count": 33
        }
      ]
    },
    {
      "cell_type": "code",
      "metadata": {
        "id": "z0PbvrtLivm7"
      },
      "source": [
        "# Character to idx mapping\n",
        "vocabulary = letters + ['-']\n",
        "idx2char = {k:v for k,v in enumerate(vocabulary, start=0)}\n",
        "char2idx = {k:v for v,k in enumerate(vocabulary, start=0)}"
      ],
      "execution_count": 35,
      "outputs": []
    },
    {
      "cell_type": "markdown",
      "metadata": {
        "id": "2Z-lHoPHkjrl"
      },
      "source": [
        "# 2. Dataloaders"
      ]
    },
    {
      "cell_type": "code",
      "metadata": {
        "id": "SV8oy2XSiwbT"
      },
      "source": [
        ""
      ],
      "execution_count": null,
      "outputs": []
    }
  ]
}
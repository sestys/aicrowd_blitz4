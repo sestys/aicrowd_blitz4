{
  "nbformat": 4,
  "nbformat_minor": 0,
  "metadata": {
    "colab": {
      "name": "crdio.ipynb",
      "provenance": [],
      "authorship_tag": "ABX9TyMevoYodpZme057SyMl3JCW",
      "include_colab_link": true
    },
    "kernelspec": {
      "name": "python3",
      "display_name": "Python 3"
    }
  },
  "cells": [
    {
      "cell_type": "markdown",
      "metadata": {
        "id": "view-in-github",
        "colab_type": "text"
      },
      "source": [
        "<a href=\"https://colab.research.google.com/github/sestys/aicrowd_blitz4/blob/main/crdio.ipynb\" target=\"_parent\"><img src=\"https://colab.research.google.com/assets/colab-badge.svg\" alt=\"Open In Colab\"/></a>"
      ]
    },
    {
      "cell_type": "code",
      "metadata": {
        "id": "F6ikt12-MuUq"
      },
      "source": [
        "!rm -rf data\n",
        "!mkdir data \n",
        "!wget https://datasets.aicrowd.com/default/aicrowd-practice-challenges/public/crdio/v0.1/test.csv\n",
        "!wget https://datasets.aicrowd.com/default/aicrowd-practice-challenges/public/crdio/v0.1/train.csv\n",
        "!mv test.csv data/test.csv\n",
        "!mv train.csv data/train.csv"
      ],
      "execution_count": null,
      "outputs": []
    },
    {
      "cell_type": "code",
      "metadata": {
        "id": "JPdOK0TNNOMe"
      },
      "source": [
        "import pandas as pd\n",
        "import numpy as np\n",
        "import matplotlib.pyplot as plt\n",
        "\n",
        "from sklearn.model_selection import train_test_split\n",
        "from sklearn.decomposition import PCA\n",
        "from sklearn.svm import SVC\n",
        "from sklearn.metrics import f1_score,precision_score,recall_score,accuracy_score\n",
        "\n",
        "import torch"
      ],
      "execution_count": 1,
      "outputs": []
    },
    {
      "cell_type": "markdown",
      "metadata": {
        "id": "s5ryd_9MNe2g"
      },
      "source": [
        "# 1. Load data\n"
      ]
    },
    {
      "cell_type": "code",
      "metadata": {
        "id": "hOouuC3mNd4l"
      },
      "source": [
        "data_path = 'data/'\n",
        "train_data = pd.read_csv(data_path + 'train.csv')\n",
        "test_data = pd.read_csv(data_path + 'test.csv')"
      ],
      "execution_count": 2,
      "outputs": []
    },
    {
      "cell_type": "code",
      "metadata": {
        "id": "icX0UG5PPhNq",
        "outputId": "da8d1ac0-a36f-4bae-eaae-60dc8654ca1e",
        "colab": {
          "base_uri": "https://localhost:8080/",
          "height": 0
        }
      },
      "source": [
        "train_data.shape, test_data.shape"
      ],
      "execution_count": 3,
      "outputs": [
        {
          "output_type": "execute_result",
          "data": {
            "text/plain": [
              "((1700, 24), (426, 23))"
            ]
          },
          "metadata": {
            "tags": []
          },
          "execution_count": 3
        }
      ]
    },
    {
      "cell_type": "markdown",
      "metadata": {
        "id": "9wdnTSGGRBlN"
      },
      "source": [
        "# 2. Data visualization"
      ]
    },
    {
      "cell_type": "code",
      "metadata": {
        "id": "UT3qtnwEN22M",
        "outputId": "e64a9741-9e5d-4b01-baad-32a9275e9391",
        "colab": {
          "base_uri": "https://localhost:8080/",
          "height": 599
        }
      },
      "source": [
        "train_data.head(), train_data.dtypes"
      ],
      "execution_count": 14,
      "outputs": [
        {
          "output_type": "execute_result",
          "data": {
            "text/plain": [
              "(     LBE     LB    AC   FM   UC  ...   Mean  Median  Variance  Tendency  NSP\n",
              " 0  135.0  135.0   8.0  2.0  7.0  ...  142.0   145.0       7.0       0.0    1\n",
              " 1  133.0  133.0   0.0  4.0  6.0  ...  122.0   130.0      14.0       1.0    1\n",
              " 2  135.0  135.0  10.0  2.0  4.0  ...  143.0   146.0       6.0       0.0    1\n",
              " 3  120.0  120.0   3.0  1.0  2.0  ...  125.0   126.0       3.0       0.0    1\n",
              " 4  132.0  132.0   6.0  0.0  6.0  ...  146.0   149.0      18.0       1.0    1\n",
              " \n",
              " [5 rows x 24 columns], LBE         float64\n",
              " LB          float64\n",
              " AC          float64\n",
              " FM          float64\n",
              " UC          float64\n",
              " ASTV        float64\n",
              " MSTV        float64\n",
              " ALTV        float64\n",
              " MLTV        float64\n",
              " DL          float64\n",
              " DS          float64\n",
              " DP          float64\n",
              " DR          float64\n",
              " Width       float64\n",
              " Min         float64\n",
              " Max         float64\n",
              " Nmax        float64\n",
              " Nzeros      float64\n",
              " Mode        float64\n",
              " Mean        float64\n",
              " Median      float64\n",
              " Variance    float64\n",
              " Tendency    float64\n",
              " NSP           int64\n",
              " dtype: object)"
            ]
          },
          "metadata": {
            "tags": []
          },
          "execution_count": 14
        }
      ]
    },
    {
      "cell_type": "markdown",
      "metadata": {
        "id": "A_BE2BYiPALQ"
      },
      "source": [
        "\n",
        "| Index  | Attribute-Name | Details |\n",
        "| ------------- | ------------- | -------------  |\n",
        "1  |LBE |FHR baseline value (medical expert) (beats per minute) |\n",
        "2  |LB |FHR baseline (SisPorto) (beats per minute) |\n",
        "3  |AC |Number of accelerations per second  |  \n",
        "4  |FM |Number of fetal movements per second  |  \n",
        "5  |UC |Number of uterine contractions per second  |  \n",
        "6  |ASTV |percentage of time with abnormal short term variability  |  \n",
        "7  |MSTV |mean value of short term variability  |  \n",
        "8  |ALTV |percentage of time with abnormal long term variability |  \n",
        "9  |MLTV |mean value of long term variability |\n",
        "10  |DL |Number of light decelerations per second  |  \n",
        "11  |DS |Number of severe decelerations per second  |  \n",
        "12  |DP |Number of prolonged decelerations per second  |  \n",
        "13  |DR |Number of repetitive decelerations per second  |  \n",
        "14  |Width |width of FHR histogram |\n",
        "15  |Min |minimum of FHR histogram |\n",
        "16  |Max |maximum of FHR histogram |\n",
        "17  |Nmax |Number of histogram peaks |\n",
        "18  |Nzeros |Number of histogram zeros |\n",
        "19  |Mode |histogram mode  |\n",
        "20  |Mean |histogram mean  |\n",
        "21  |Median |histogram median |\n",
        "22  |Variance |histogram variance |\n",
        "23  |Tendency |histogram tendency |\n",
        "24  |NSP |Normal=1; Suspect=2; Pathologic=3 |"
      ]
    },
    {
      "cell_type": "code",
      "metadata": {
        "id": "j3buyZPjN5kI",
        "outputId": "4d4a1000-d6e4-4040-cba9-c19e1b3324fa",
        "colab": {
          "base_uri": "https://localhost:8080/",
          "height": 399
        }
      },
      "source": [
        "print('Class accurence:\\n', train_data['NSP'].value_counts())\n",
        "train_data.describe()"
      ],
      "execution_count": 11,
      "outputs": [
        {
          "output_type": "stream",
          "text": [
            "Class accurence:\n",
            " 1    1329\n",
            "2     228\n",
            "3     143\n",
            "Name: NSP, dtype: int64\n"
          ],
          "name": "stdout"
        },
        {
          "output_type": "execute_result",
          "data": {
            "text/html": [
              "<div>\n",
              "<style scoped>\n",
              "    .dataframe tbody tr th:only-of-type {\n",
              "        vertical-align: middle;\n",
              "    }\n",
              "\n",
              "    .dataframe tbody tr th {\n",
              "        vertical-align: top;\n",
              "    }\n",
              "\n",
              "    .dataframe thead th {\n",
              "        text-align: right;\n",
              "    }\n",
              "</style>\n",
              "<table border=\"1\" class=\"dataframe\">\n",
              "  <thead>\n",
              "    <tr style=\"text-align: right;\">\n",
              "      <th></th>\n",
              "      <th>LBE</th>\n",
              "      <th>LB</th>\n",
              "      <th>AC</th>\n",
              "      <th>FM</th>\n",
              "      <th>UC</th>\n",
              "      <th>ASTV</th>\n",
              "      <th>MSTV</th>\n",
              "      <th>ALTV</th>\n",
              "      <th>MLTV</th>\n",
              "      <th>DL</th>\n",
              "      <th>DS</th>\n",
              "      <th>DP</th>\n",
              "      <th>DR</th>\n",
              "      <th>Width</th>\n",
              "      <th>Min</th>\n",
              "      <th>Max</th>\n",
              "      <th>Nmax</th>\n",
              "      <th>Nzeros</th>\n",
              "      <th>Mode</th>\n",
              "      <th>Mean</th>\n",
              "      <th>Median</th>\n",
              "      <th>Variance</th>\n",
              "      <th>Tendency</th>\n",
              "      <th>NSP</th>\n",
              "    </tr>\n",
              "  </thead>\n",
              "  <tbody>\n",
              "    <tr>\n",
              "      <th>count</th>\n",
              "      <td>1700.000000</td>\n",
              "      <td>1700.000000</td>\n",
              "      <td>1700.000000</td>\n",
              "      <td>1700.000000</td>\n",
              "      <td>1700.000000</td>\n",
              "      <td>1700.000000</td>\n",
              "      <td>1700.000000</td>\n",
              "      <td>1700.000000</td>\n",
              "      <td>1700.000000</td>\n",
              "      <td>1700.000000</td>\n",
              "      <td>1700.000000</td>\n",
              "      <td>1700.000000</td>\n",
              "      <td>1700.0</td>\n",
              "      <td>1700.000000</td>\n",
              "      <td>1700.000000</td>\n",
              "      <td>1700.000000</td>\n",
              "      <td>1700.000000</td>\n",
              "      <td>1700.000000</td>\n",
              "      <td>1700.000000</td>\n",
              "      <td>1700.000000</td>\n",
              "      <td>1700.000000</td>\n",
              "      <td>1700.000000</td>\n",
              "      <td>1700.000000</td>\n",
              "      <td>1700.000000</td>\n",
              "    </tr>\n",
              "    <tr>\n",
              "      <th>mean</th>\n",
              "      <td>133.219412</td>\n",
              "      <td>133.219412</td>\n",
              "      <td>2.684118</td>\n",
              "      <td>6.851176</td>\n",
              "      <td>3.597059</td>\n",
              "      <td>46.857647</td>\n",
              "      <td>1.334118</td>\n",
              "      <td>9.872353</td>\n",
              "      <td>8.207353</td>\n",
              "      <td>1.527647</td>\n",
              "      <td>0.002941</td>\n",
              "      <td>0.134118</td>\n",
              "      <td>0.0</td>\n",
              "      <td>70.308824</td>\n",
              "      <td>93.644118</td>\n",
              "      <td>163.952941</td>\n",
              "      <td>4.105294</td>\n",
              "      <td>0.320000</td>\n",
              "      <td>137.171176</td>\n",
              "      <td>134.485882</td>\n",
              "      <td>137.935882</td>\n",
              "      <td>18.837647</td>\n",
              "      <td>0.313529</td>\n",
              "      <td>1.302353</td>\n",
              "    </tr>\n",
              "    <tr>\n",
              "      <th>std</th>\n",
              "      <td>9.845934</td>\n",
              "      <td>9.845934</td>\n",
              "      <td>3.452645</td>\n",
              "      <td>34.902431</td>\n",
              "      <td>2.788713</td>\n",
              "      <td>17.164055</td>\n",
              "      <td>0.878399</td>\n",
              "      <td>18.577602</td>\n",
              "      <td>5.698527</td>\n",
              "      <td>2.430154</td>\n",
              "      <td>0.054169</td>\n",
              "      <td>0.484863</td>\n",
              "      <td>0.0</td>\n",
              "      <td>39.228544</td>\n",
              "      <td>29.728492</td>\n",
              "      <td>17.910908</td>\n",
              "      <td>2.980430</td>\n",
              "      <td>0.706449</td>\n",
              "      <td>16.542794</td>\n",
              "      <td>15.694191</td>\n",
              "      <td>14.535621</td>\n",
              "      <td>29.648333</td>\n",
              "      <td>0.609851</td>\n",
              "      <td>0.615950</td>\n",
              "    </tr>\n",
              "    <tr>\n",
              "      <th>min</th>\n",
              "      <td>106.000000</td>\n",
              "      <td>106.000000</td>\n",
              "      <td>0.000000</td>\n",
              "      <td>0.000000</td>\n",
              "      <td>0.000000</td>\n",
              "      <td>12.000000</td>\n",
              "      <td>0.200000</td>\n",
              "      <td>0.000000</td>\n",
              "      <td>0.000000</td>\n",
              "      <td>0.000000</td>\n",
              "      <td>0.000000</td>\n",
              "      <td>0.000000</td>\n",
              "      <td>0.0</td>\n",
              "      <td>3.000000</td>\n",
              "      <td>50.000000</td>\n",
              "      <td>123.000000</td>\n",
              "      <td>0.000000</td>\n",
              "      <td>0.000000</td>\n",
              "      <td>60.000000</td>\n",
              "      <td>73.000000</td>\n",
              "      <td>77.000000</td>\n",
              "      <td>0.000000</td>\n",
              "      <td>-1.000000</td>\n",
              "      <td>1.000000</td>\n",
              "    </tr>\n",
              "    <tr>\n",
              "      <th>25%</th>\n",
              "      <td>126.000000</td>\n",
              "      <td>126.000000</td>\n",
              "      <td>0.000000</td>\n",
              "      <td>0.000000</td>\n",
              "      <td>1.000000</td>\n",
              "      <td>32.000000</td>\n",
              "      <td>0.700000</td>\n",
              "      <td>0.000000</td>\n",
              "      <td>4.500000</td>\n",
              "      <td>0.000000</td>\n",
              "      <td>0.000000</td>\n",
              "      <td>0.000000</td>\n",
              "      <td>0.0</td>\n",
              "      <td>37.000000</td>\n",
              "      <td>67.000000</td>\n",
              "      <td>152.000000</td>\n",
              "      <td>2.000000</td>\n",
              "      <td>0.000000</td>\n",
              "      <td>129.000000</td>\n",
              "      <td>125.000000</td>\n",
              "      <td>128.000000</td>\n",
              "      <td>2.000000</td>\n",
              "      <td>0.000000</td>\n",
              "      <td>1.000000</td>\n",
              "    </tr>\n",
              "    <tr>\n",
              "      <th>50%</th>\n",
              "      <td>133.000000</td>\n",
              "      <td>133.000000</td>\n",
              "      <td>1.000000</td>\n",
              "      <td>0.000000</td>\n",
              "      <td>3.000000</td>\n",
              "      <td>48.000000</td>\n",
              "      <td>1.200000</td>\n",
              "      <td>0.000000</td>\n",
              "      <td>7.400000</td>\n",
              "      <td>0.000000</td>\n",
              "      <td>0.000000</td>\n",
              "      <td>0.000000</td>\n",
              "      <td>0.0</td>\n",
              "      <td>67.000000</td>\n",
              "      <td>93.500000</td>\n",
              "      <td>162.000000</td>\n",
              "      <td>3.000000</td>\n",
              "      <td>0.000000</td>\n",
              "      <td>139.000000</td>\n",
              "      <td>136.000000</td>\n",
              "      <td>139.000000</td>\n",
              "      <td>7.000000</td>\n",
              "      <td>0.000000</td>\n",
              "      <td>1.000000</td>\n",
              "    </tr>\n",
              "    <tr>\n",
              "      <th>75%</th>\n",
              "      <td>140.000000</td>\n",
              "      <td>140.000000</td>\n",
              "      <td>4.000000</td>\n",
              "      <td>2.000000</td>\n",
              "      <td>5.000000</td>\n",
              "      <td>61.000000</td>\n",
              "      <td>1.700000</td>\n",
              "      <td>10.250000</td>\n",
              "      <td>10.800000</td>\n",
              "      <td>2.250000</td>\n",
              "      <td>0.000000</td>\n",
              "      <td>0.000000</td>\n",
              "      <td>0.0</td>\n",
              "      <td>100.250000</td>\n",
              "      <td>120.000000</td>\n",
              "      <td>174.000000</td>\n",
              "      <td>6.000000</td>\n",
              "      <td>0.000000</td>\n",
              "      <td>148.000000</td>\n",
              "      <td>145.000000</td>\n",
              "      <td>148.000000</td>\n",
              "      <td>24.000000</td>\n",
              "      <td>1.000000</td>\n",
              "      <td>1.000000</td>\n",
              "    </tr>\n",
              "    <tr>\n",
              "      <th>max</th>\n",
              "      <td>160.000000</td>\n",
              "      <td>160.000000</td>\n",
              "      <td>19.000000</td>\n",
              "      <td>564.000000</td>\n",
              "      <td>23.000000</td>\n",
              "      <td>86.000000</td>\n",
              "      <td>7.000000</td>\n",
              "      <td>91.000000</td>\n",
              "      <td>50.700000</td>\n",
              "      <td>14.000000</td>\n",
              "      <td>1.000000</td>\n",
              "      <td>4.000000</td>\n",
              "      <td>0.0</td>\n",
              "      <td>180.000000</td>\n",
              "      <td>158.000000</td>\n",
              "      <td>238.000000</td>\n",
              "      <td>18.000000</td>\n",
              "      <td>10.000000</td>\n",
              "      <td>187.000000</td>\n",
              "      <td>182.000000</td>\n",
              "      <td>186.000000</td>\n",
              "      <td>269.000000</td>\n",
              "      <td>1.000000</td>\n",
              "      <td>3.000000</td>\n",
              "    </tr>\n",
              "  </tbody>\n",
              "</table>\n",
              "</div>"
            ],
            "text/plain": [
              "               LBE           LB  ...     Tendency          NSP\n",
              "count  1700.000000  1700.000000  ...  1700.000000  1700.000000\n",
              "mean    133.219412   133.219412  ...     0.313529     1.302353\n",
              "std       9.845934     9.845934  ...     0.609851     0.615950\n",
              "min     106.000000   106.000000  ...    -1.000000     1.000000\n",
              "25%     126.000000   126.000000  ...     0.000000     1.000000\n",
              "50%     133.000000   133.000000  ...     0.000000     1.000000\n",
              "75%     140.000000   140.000000  ...     1.000000     1.000000\n",
              "max     160.000000   160.000000  ...     1.000000     3.000000\n",
              "\n",
              "[8 rows x 24 columns]"
            ]
          },
          "metadata": {
            "tags": []
          },
          "execution_count": 11
        }
      ]
    },
    {
      "cell_type": "code",
      "metadata": {
        "id": "pVX14gnhQGXs"
      },
      "source": [
        ""
      ],
      "execution_count": null,
      "outputs": []
    },
    {
      "cell_type": "markdown",
      "metadata": {
        "id": "OUd7OIWmRHG3"
      },
      "source": [
        "# 3. Data preprocessing"
      ]
    },
    {
      "cell_type": "code",
      "metadata": {
        "id": "UNpvgFa7RGDr",
        "outputId": "645eb4f9-f027-4f28-dc75-1b19e3a19695",
        "colab": {
          "base_uri": "https://localhost:8080/",
          "height": 0
        }
      },
      "source": [
        "_train, _val = train_test_split(train_data, test_size=0.1, random_state=42)\n",
        "X_train, y_train = _train.iloc[:, :-1], _train.iloc[:, -1]\n",
        "X_val, y_val = _val.iloc[:, :-1], _val.iloc[:, -1]\n",
        "X_train.shape, y_train.shape, X_val.shape, y_val.shape"
      ],
      "execution_count": 4,
      "outputs": [
        {
          "output_type": "execute_result",
          "data": {
            "text/plain": [
              "((1530, 23), (1530,), (170, 23), (170,))"
            ]
          },
          "metadata": {
            "tags": []
          },
          "execution_count": 4
        }
      ]
    },
    {
      "cell_type": "code",
      "metadata": {
        "id": "4wvmE3x8R7eM"
      },
      "source": [
        ""
      ],
      "execution_count": 4,
      "outputs": []
    },
    {
      "cell_type": "markdown",
      "metadata": {
        "id": "PCim8XTmSTFP"
      },
      "source": [
        "# 4. Training"
      ]
    },
    {
      "cell_type": "code",
      "metadata": {
        "id": "cAGaYIK4UBoi"
      },
      "source": [
        "N_features = X_train.shape[1]"
      ],
      "execution_count": 5,
      "outputs": []
    },
    {
      "cell_type": "code",
      "metadata": {
        "id": "RIWw1z_iUJel",
        "outputId": "acda8a37-d15e-4702-eef2-e5b7cfd83598",
        "colab": {
          "base_uri": "https://localhost:8080/",
          "height": 435
        }
      },
      "source": [
        "accuracy = []\n",
        "f1 = []\n",
        "for i in range(1, N_features + 1):\n",
        "    if i != N_features:\n",
        "        pca = PCA(n_components=i)\n",
        "        pca.fit(X_train)\n",
        "        X_train_pca = pca.transform(X_train)\n",
        "        X_val_pca = pca.transform(X_val)\n",
        "    else:\n",
        "        X_train_pca = X_train\n",
        "        X_val_pca = X_val\n",
        "    classifier = SVC(gamma='auto')\n",
        "    classifier.fit(X_train_pca, y_train)\n",
        "    y_pred = classifier.predict(X_val_pca)\n",
        "    accuracy.append(accuracy_score(y_val,y_pred))\n",
        "    f1.append(f1_score(y_val,y_pred,average='macro'))\n",
        "    print('Using {} components in PCA; accuracy: {}, F1: {}'.format(i, accuracy[-1], f1[-1]))"
      ],
      "execution_count": 6,
      "outputs": [
        {
          "output_type": "stream",
          "text": [
            "Using 1 components in PCA; accuracy: 0.7823529411764706, F1: 0.431011382568476\n",
            "Using 2 components in PCA; accuracy: 0.8176470588235294, F1: 0.5007929190484971\n",
            "Using 3 components in PCA; accuracy: 0.8058823529411765, F1: 0.43664065403195845\n",
            "Using 4 components in PCA; accuracy: 0.7941176470588235, F1: 0.3730050159598723\n",
            "Using 5 components in PCA; accuracy: 0.7941176470588235, F1: 0.3730050159598723\n",
            "Using 6 components in PCA; accuracy: 0.788235294117647, F1: 0.3352649006622516\n",
            "Using 7 components in PCA; accuracy: 0.7941176470588235, F1: 0.3364961496149615\n",
            "Using 8 components in PCA; accuracy: 0.7941176470588235, F1: 0.3364961496149615\n",
            "Using 9 components in PCA; accuracy: 0.7941176470588235, F1: 0.3364961496149615\n",
            "Using 10 components in PCA; accuracy: 0.7941176470588235, F1: 0.3364961496149615\n",
            "Using 11 components in PCA; accuracy: 0.7941176470588235, F1: 0.3364961496149615\n",
            "Using 12 components in PCA; accuracy: 0.7941176470588235, F1: 0.3364961496149615\n",
            "Using 13 components in PCA; accuracy: 0.7941176470588235, F1: 0.3364961496149615\n",
            "Using 14 components in PCA; accuracy: 0.8, F1: 0.33771929824561403\n",
            "Using 15 components in PCA; accuracy: 0.7941176470588235, F1: 0.3364961496149615\n",
            "Using 16 components in PCA; accuracy: 0.7941176470588235, F1: 0.3364961496149615\n",
            "Using 17 components in PCA; accuracy: 0.7941176470588235, F1: 0.3364961496149615\n",
            "Using 18 components in PCA; accuracy: 0.7941176470588235, F1: 0.3364961496149615\n",
            "Using 19 components in PCA; accuracy: 0.7941176470588235, F1: 0.3364961496149615\n",
            "Using 20 components in PCA; accuracy: 0.7941176470588235, F1: 0.3364961496149615\n",
            "Using 21 components in PCA; accuracy: 0.7941176470588235, F1: 0.3364961496149615\n",
            "Using 22 components in PCA; accuracy: 0.7941176470588235, F1: 0.3364961496149615\n",
            "Using 23 components in PCA; accuracy: 0.7941176470588235, F1: 0.3364961496149615\n"
          ],
          "name": "stdout"
        }
      ]
    },
    {
      "cell_type": "code",
      "metadata": {
        "id": "kgmHBG6TSVWD",
        "outputId": "bdc91946-1e86-4f8a-e809-b1faffb03c85",
        "colab": {
          "base_uri": "https://localhost:8080/",
          "height": 283
        }
      },
      "source": [
        "x_range = list(range(1, N_features + 1))\n",
        "plt.plot(x_range, accuracy)"
      ],
      "execution_count": 7,
      "outputs": [
        {
          "output_type": "execute_result",
          "data": {
            "text/plain": [
              "[<matplotlib.lines.Line2D at 0x7f586501f048>]"
            ]
          },
          "metadata": {
            "tags": []
          },
          "execution_count": 7
        },
        {
          "output_type": "display_data",
          "data": {
            "image/png": "[encoded data removed]",
            "text/plain": [
              "<Figure size 432x288 with 1 Axes>"
            ]
          },
          "metadata": {
            "tags": [],
            "needs_background": "light"
          }
        }
      ]
    },
    {
      "cell_type": "code",
      "metadata": {
        "id": "oyb4IioET-V3",
        "outputId": "aa4aa313-c187-4fbb-dfc1-ea26371f1c74",
        "colab": {
          "base_uri": "https://localhost:8080/",
          "height": 35
        }
      },
      "source": [
        "best = np.argmax(np.array(f1)) + 1\n",
        "best"
      ],
      "execution_count": 8,
      "outputs": [
        {
          "output_type": "execute_result",
          "data": {
            "text/plain": [
              "2"
            ]
          },
          "metadata": {
            "tags": []
          },
          "execution_count": 8
        }
      ]
    },
    {
      "cell_type": "markdown",
      "metadata": {
        "id": "cFayWLKzWpkr"
      },
      "source": [
        "# 5. Test"
      ]
    },
    {
      "cell_type": "code",
      "metadata": {
        "id": "EXkOE1KDWsJN"
      },
      "source": [
        "pca = PCA(n_components=best)\n",
        "pca.fit(X_train)\n",
        "X_train_pca = pca.transform(X_train)\n",
        "X_test = pca.transform(test_data)"
      ],
      "execution_count": 13,
      "outputs": []
    },
    {
      "cell_type": "code",
      "metadata": {
        "id": "HPcUdn4qXZy3",
        "outputId": "9a524e7f-25ea-40bc-bc87-b6d4b6f920d0",
        "colab": {
          "base_uri": "https://localhost:8080/",
          "height": 90
        }
      },
      "source": [
        "classifier = SVC(gamma='auto')\n",
        "classifier.fit(X_train_pca, y_train)"
      ],
      "execution_count": 14,
      "outputs": [
        {
          "output_type": "execute_result",
          "data": {
            "text/plain": [
              "SVC(C=1.0, break_ties=False, cache_size=200, class_weight=None, coef0=0.0,\n",
              "    decision_function_shape='ovr', degree=3, gamma='auto', kernel='rbf',\n",
              "    max_iter=-1, probability=False, random_state=None, shrinking=True,\n",
              "    tol=0.001, verbose=False)"
            ]
          },
          "metadata": {
            "tags": []
          },
          "execution_count": 14
        }
      ]
    },
    {
      "cell_type": "code",
      "metadata": {
        "id": "W6gwG9ZFX4_3"
      },
      "source": [
        "prediction = classifier.predict(X_test)"
      ],
      "execution_count": 15,
      "outputs": []
    },
    {
      "cell_type": "code",
      "metadata": {
        "id": "XFdQu2YQYNUc"
      },
      "source": [
        "submission = pd.DataFrame(prediction)\n",
        "submission.to_csv('data/crdio_submission_svm.csv', header=['NSP'], index=False)"
      ],
      "execution_count": 16,
      "outputs": []
    },
    {
      "cell_type": "code",
      "metadata": {
        "id": "ba6AqInoYj5_",
        "outputId": "e5096a54-dd46-40c9-8c1b-9f4e196be8c1",
        "colab": {
          "base_uri": "https://localhost:8080/",
          "height": 17
        }
      },
      "source": [
        "try:\n",
        "  from google.colab import files\n",
        "  files.download('data/crdio_submission_svm.csv')\n",
        "except ImportError as e:\n",
        "  print(\"Only for Collab\") "
      ],
      "execution_count": 17,
      "outputs": [
        {
          "output_type": "display_data",
          "data": {
            "application/javascript": [
              "\n",
              "    async function download(id, filename, size) {\n",
              "      if (!google.colab.kernel.accessAllowed) {\n",
              "        return;\n",
              "      }\n",
              "      const div = document.createElement('div');\n",
              "      const label = document.createElement('label');\n",
              "      label.textContent = `Downloading \"${filename}\": `;\n",
              "      div.appendChild(label);\n",
              "      const progress = document.createElement('progress');\n",
              "      progress.max = size;\n",
              "      div.appendChild(progress);\n",
              "      document.body.appendChild(div);\n",
              "\n",
              "      const buffers = [];\n",
              "      let downloaded = 0;\n",
              "\n",
              "      const channel = await google.colab.kernel.comms.open(id);\n",
              "      // Send a message to notify the kernel that we're ready.\n",
              "      channel.send({})\n",
              "\n",
              "      for await (const message of channel.messages) {\n",
              "        // Send a message to notify the kernel that we're ready.\n",
              "        channel.send({})\n",
              "        if (message.buffers) {\n",
              "          for (const buffer of message.buffers) {\n",
              "            buffers.push(buffer);\n",
              "            downloaded += buffer.byteLength;\n",
              "            progress.value = downloaded;\n",
              "          }\n",
              "        }\n",
              "      }\n",
              "      const blob = new Blob(buffers, {type: 'application/binary'});\n",
              "      const a = document.createElement('a');\n",
              "      a.href = window.URL.createObjectURL(blob);\n",
              "      a.download = filename;\n",
              "      div.appendChild(a);\n",
              "      a.click();\n",
              "      div.remove();\n",
              "    }\n",
              "  "
            ],
            "text/plain": [
              "<IPython.core.display.Javascript object>"
            ]
          },
          "metadata": {
            "tags": []
          }
        },
        {
          "output_type": "display_data",
          "data": {
            "application/javascript": [
              "download(\"download_4bd5b779-81bd-47f5-8936-6e2ad7f2cece\", \"crdio_submission_svm.csv\", 856)"
            ],
            "text/plain": [
              "<IPython.core.display.Javascript object>"
            ]
          },
          "metadata": {
            "tags": []
          }
        }
      ]
    },
    {
      "cell_type": "code",
      "metadata": {
        "id": "RxUFqfGJYrFT"
      },
      "source": [
        ""
      ],
      "execution_count": null,
      "outputs": []
    }
  ]
}
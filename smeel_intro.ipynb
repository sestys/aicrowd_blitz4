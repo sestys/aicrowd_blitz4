{
  "nbformat": 4,
  "nbformat_minor": 0,
  "metadata": {
    "colab": {
      "name": "OlfactoryExplainer.ipynb",
      "provenance": [],
      "collapsed_sections": [],
      "include_colab_link": true
    },
    "kernelspec": {
      "name": "python3",
      "display_name": "Python 3"
    },
    "accelerator": "GPU"
  },
  "cells": [
    {
      "cell_type": "markdown",
      "metadata": {
        "id": "view-in-github",
        "colab_type": "text"
      },
      "source": [
        "<a href=\"https://colab.research.google.com/github/sestys/aicrowd_blitz4/blob/main/smeel_intro.ipynb\" target=\"_parent\"><img src=\"https://colab.research.google.com/assets/colab-badge.svg\" alt=\"Open In Colab\"/></a>"
      ]
    },
    {
      "cell_type": "markdown",
      "metadata": {
        "id": "9ctMPsJrllXp"
      },
      "source": [
        "This is a quick guide exploring what CNNs can do with an image representation of molecules\n",
        "\n",
        "Covered in this guide:\n",
        "\n",
        "1- Downloading and using rdkit <br>\n",
        "2- Visualizing molecules using rdkit <br>\n",
        "3- Using a pretrained inception_v3 model <br>\n",
        "4- making predictions and submission file <br>"
      ]
    },
    {
      "cell_type": "markdown",
      "metadata": {
        "id": "ijDfwV3fpGpC"
      },
      "source": [
        "We first download the data:"
      ]
    },
    {
      "cell_type": "code",
      "metadata": {
        "id": "At_X87tqVxFb",
        "outputId": "b01a2475-c3b3-4e13-e8db-5a7c6462af20",
        "colab": {
          "base_uri": "https://localhost:8080/",
          "height": 90
        }
      },
      "source": [
        "!gdown --id 1t5be8KLHOz3YuSmiiPQjopb4c_q2U4tG"
      ],
      "execution_count": 1,
      "outputs": [
        {
          "output_type": "stream",
          "text": [
            "Downloading...\n",
            "From: https://drive.google.com/uc?id=1t5be8KLHOz3YuSmiiPQjopb4c_q2U4tG\n",
            "To: /content/olfactorydata.zip\n",
            "\r  0% 0.00/94.3k [00:00<?, ?B/s]\r100% 94.3k/94.3k [00:00<00:00, 35.3MB/s]\n"
          ],
          "name": "stdout"
        }
      ]
    },
    {
      "cell_type": "code",
      "metadata": {
        "id": "Adsz30c3Vdqm",
        "outputId": "f4c144da-b652-4f1b-e6e6-4809de26d36c",
        "colab": {
          "base_uri": "https://localhost:8080/",
          "height": 108
        }
      },
      "source": [
        "!unzip olfactorydata.zip "
      ],
      "execution_count": 2,
      "outputs": [
        {
          "output_type": "stream",
          "text": [
            "Archive:  olfactorydata.zip\n",
            "  inflating: train.csv               \n",
            "  inflating: test.csv                \n",
            "  inflating: sample_submission.csv   \n",
            "  inflating: vocabulary.txt          \n"
          ],
          "name": "stdout"
        }
      ]
    },
    {
      "cell_type": "code",
      "metadata": {
        "id": "lJKMmHcMkWNZ",
        "outputId": "377bb3d7-484c-4e37-e8fc-05983a65bbc6",
        "colab": {
          "base_uri": "https://localhost:8080/",
          "height": 54
        }
      },
      "source": [
        "!ls"
      ],
      "execution_count": 3,
      "outputs": [
        {
          "output_type": "stream",
          "text": [
            "olfactorydata.zip  sample_submission.csv  train.csv\n",
            "sample_data\t   test.csv\t\t  vocabulary.txt\n"
          ],
          "name": "stdout"
        }
      ]
    },
    {
      "cell_type": "markdown",
      "metadata": {
        "id": "aRyP9ZyhpFXw"
      },
      "source": [
        "Next we install rdkit:\n",
        "\n",
        "**Credits to**: https://stackoverflow.com/questions/63152656/installing-rdkit-in-google-colab"
      ]
    },
    {
      "cell_type": "code",
      "metadata": {
        "id": "Cz0-u5yMIVpr",
        "outputId": "ae4d640e-e1a4-4e0c-b3ee-6d1ca27005d3",
        "colab": {
          "base_uri": "https://localhost:8080/",
          "height": 1000
        }
      },
      "source": [
        "!wget -q -c https://repo.continuum.io/miniconda/Miniconda3-py37_4.8.3-Linux-x86_64.sh\n",
        "!chmod +x Miniconda3-py37_4.8.3-Linux-x86_64.sh\n",
        "!time bash ./Miniconda3-py37_4.8.3-Linux-x86_64.sh -b -q -f -p /usr/local\n",
        "!time conda install -q -y -c conda-forge rdkit\n",
        "\n",
        "import sys\n",
        "sys.path.append('/usr/local/lib/python3.7/site-packages/')"
      ],
      "execution_count": 4,
      "outputs": [
        {
          "output_type": "stream",
          "text": [
            "PREFIX=/usr/local\n",
            "Unpacking payload ...\n",
            "Collecting package metadata (current_repodata.json): - \b\b\\ \b\b| \b\bdone\n",
            "Solving environment: - \b\b\\ \b\bdone\n",
            "\n",
            "## Package Plan ##\n",
            "\n",
            "  environment location: /usr/local\n",
            "\n",
            "  added / updated specs:\n",
            "    - _libgcc_mutex==0.1=main\n",
            "    - ca-certificates==2020.1.1=0\n",
            "    - certifi==2020.4.5.1=py37_0\n",
            "    - cffi==1.14.0=py37he30daa8_1\n",
            "    - chardet==3.0.4=py37_1003\n",
            "    - conda-package-handling==1.6.1=py37h7b6447c_0\n",
            "    - conda==4.8.3=py37_0\n",
            "    - cryptography==2.9.2=py37h1ba5d50_0\n",
            "    - idna==2.9=py_1\n",
            "    - ld_impl_linux-64==2.33.1=h53a641e_7\n",
            "    - libedit==3.1.20181209=hc058e9b_0\n",
            "    - libffi==3.3=he6710b0_1\n",
            "    - libgcc-ng==9.1.0=hdf63c60_0\n",
            "    - libstdcxx-ng==9.1.0=hdf63c60_0\n",
            "    - ncurses==6.2=he6710b0_1\n",
            "    - openssl==1.1.1g=h7b6447c_0\n",
            "    - pip==20.0.2=py37_3\n",
            "    - pycosat==0.6.3=py37h7b6447c_0\n",
            "    - pycparser==2.20=py_0\n",
            "    - pyopenssl==19.1.0=py37_0\n",
            "    - pysocks==1.7.1=py37_0\n",
            "    - python==3.7.7=hcff3b4d_5\n",
            "    - readline==8.0=h7b6447c_0\n",
            "    - requests==2.23.0=py37_0\n",
            "    - ruamel_yaml==0.15.87=py37h7b6447c_0\n",
            "    - setuptools==46.4.0=py37_0\n",
            "    - six==1.14.0=py37_0\n",
            "    - sqlite==3.31.1=h62c20be_1\n",
            "    - tk==8.6.8=hbc83047_0\n",
            "    - tqdm==4.46.0=py_0\n",
            "    - urllib3==1.25.8=py37_0\n",
            "    - wheel==0.34.2=py37_0\n",
            "    - xz==5.2.5=h7b6447c_0\n",
            "    - yaml==0.1.7=had09818_2\n",
            "    - zlib==1.2.11=h7b6447c_3\n",
            "\n",
            "\n",
            "The following NEW packages will be INSTALLED:\n",
            "\n",
            "  _libgcc_mutex      pkgs/main/linux-64::_libgcc_mutex-0.1-main\n",
            "  ca-certificates    pkgs/main/linux-64::ca-certificates-2020.1.1-0\n",
            "  certifi            pkgs/main/linux-64::certifi-2020.4.5.1-py37_0\n",
            "  cffi               pkgs/main/linux-64::cffi-1.14.0-py37he30daa8_1\n",
            "  chardet            pkgs/main/linux-64::chardet-3.0.4-py37_1003\n",
            "  conda              pkgs/main/linux-64::conda-4.8.3-py37_0\n",
            "  conda-package-han~ pkgs/main/linux-64::conda-package-handling-1.6.1-py37h7b6447c_0\n",
            "  cryptography       pkgs/main/linux-64::cryptography-2.9.2-py37h1ba5d50_0\n",
            "  idna               pkgs/main/noarch::idna-2.9-py_1\n",
            "  ld_impl_linux-64   pkgs/main/linux-64::ld_impl_linux-64-2.33.1-h53a641e_7\n",
            "  libedit            pkgs/main/linux-64::libedit-3.1.20181209-hc058e9b_0\n",
            "  libffi             pkgs/main/linux-64::libffi-3.3-he6710b0_1\n",
            "  libgcc-ng          pkgs/main/linux-64::libgcc-ng-9.1.0-hdf63c60_0\n",
            "  libstdcxx-ng       pkgs/main/linux-64::libstdcxx-ng-9.1.0-hdf63c60_0\n",
            "  ncurses            pkgs/main/linux-64::ncurses-6.2-he6710b0_1\n",
            "  openssl            pkgs/main/linux-64::openssl-1.1.1g-h7b6447c_0\n",
            "  pip                pkgs/main/linux-64::pip-20.0.2-py37_3\n",
            "  pycosat            pkgs/main/linux-64::pycosat-0.6.3-py37h7b6447c_0\n",
            "  pycparser          pkgs/main/noarch::pycparser-2.20-py_0\n",
            "  pyopenssl          pkgs/main/linux-64::pyopenssl-19.1.0-py37_0\n",
            "  pysocks            pkgs/main/linux-64::pysocks-1.7.1-py37_0\n",
            "  python             pkgs/main/linux-64::python-3.7.7-hcff3b4d_5\n",
            "  readline           pkgs/main/linux-64::readline-8.0-h7b6447c_0\n",
            "  requests           pkgs/main/linux-64::requests-2.23.0-py37_0\n",
            "  ruamel_yaml        pkgs/main/linux-64::ruamel_yaml-0.15.87-py37h7b6447c_0\n",
            "  setuptools         pkgs/main/linux-64::setuptools-46.4.0-py37_0\n",
            "  six                pkgs/main/linux-64::six-1.14.0-py37_0\n",
            "  sqlite             pkgs/main/linux-64::sqlite-3.31.1-h62c20be_1\n",
            "  tk                 pkgs/main/linux-64::tk-8.6.8-hbc83047_0\n",
            "  tqdm               pkgs/main/noarch::tqdm-4.46.0-py_0\n",
            "  urllib3            pkgs/main/linux-64::urllib3-1.25.8-py37_0\n",
            "  wheel              pkgs/main/linux-64::wheel-0.34.2-py37_0\n",
            "  xz                 pkgs/main/linux-64::xz-5.2.5-h7b6447c_0\n",
            "  yaml               pkgs/main/linux-64::yaml-0.1.7-had09818_2\n",
            "  zlib               pkgs/main/linux-64::zlib-1.2.11-h7b6447c_3\n",
            "\n",
            "\n",
            "Preparing transaction: / \b\b- \b\b\\ \b\bdone\n",
            "Executing transaction: / \b\b- \b\b\\ \b\b| \b\b/ \b\b- \b\b\\ \b\b| \b\b/ \b\b- \b\b\\ \b\b| \b\bdone\n",
            "installation finished.\n",
            "WARNING:\n",
            "    You currently have a PYTHONPATH environment variable set. This may cause\n",
            "    unexpected behavior when running the Python interpreter in Miniconda3.\n",
            "    For best results, please verify that your PYTHONPATH only points to\n",
            "    directories of packages that are compatible with the Python interpreter\n",
            "    in Miniconda3: /usr/local\n",
            "\n",
            "real\t0m30.662s\n",
            "user\t0m13.309s\n",
            "sys\t0m3.972s\n",
            "Collecting package metadata (current_repodata.json): ...working... done\n",
            "Solving environment: ...working... done\n",
            "\n",
            "## Package Plan ##\n",
            "\n",
            "  environment location: /usr/local\n",
            "\n",
            "  added / updated specs:\n",
            "    - rdkit\n",
            "\n",
            "\n",
            "The following packages will be downloaded:\n",
            "\n",
            "    package                    |            build\n",
            "    ---------------------------|-----------------\n",
            "    boost-1.74.0               |   py37h48f8a5e_1         317 KB  conda-forge\n",
            "    boost-cpp-1.74.0           |       h9359b55_0        16.4 MB  conda-forge\n",
            "    bzip2-1.0.8                |       h516909a_3         398 KB  conda-forge\n",
            "    ca-certificates-2020.6.20  |       hecda079_0         145 KB  conda-forge\n",
            "    cairo-1.16.0               |    h3fc0475_1005         1.5 MB  conda-forge\n",
            "    certifi-2020.6.20          |   py37he5f6b98_2         151 KB  conda-forge\n",
            "    conda-4.8.5                |   py37he5f6b98_2         3.0 MB  conda-forge\n",
            "    fontconfig-2.13.1          |    h1056068_1002         365 KB  conda-forge\n",
            "    freetype-2.10.3            |       he06d7ca_0         920 KB  conda-forge\n",
            "    glib-2.65.0                |       h3eb4bd4_0         2.9 MB\n",
            "    icu-67.1                   |       he1b5a44_0        12.9 MB  conda-forge\n",
            "    jpeg-9d                    |       h516909a_0         266 KB  conda-forge\n",
            "    lcms2-2.11                 |       hbd6801e_0         431 KB  conda-forge\n",
            "    libblas-3.8.0              |      17_openblas          11 KB  conda-forge\n",
            "    libcblas-3.8.0             |      17_openblas          11 KB  conda-forge\n",
            "    libgfortran-ng-7.5.0       |      hae1eefd_17          22 KB  conda-forge\n",
            "    libgfortran4-7.5.0         |      hae1eefd_17         1.3 MB  conda-forge\n",
            "    libiconv-1.16              |       h516909a_0         1.4 MB  conda-forge\n",
            "    liblapack-3.8.0            |      17_openblas          11 KB  conda-forge\n",
            "    libopenblas-0.3.10         |pthreads_hb3c22a3_5         7.8 MB  conda-forge\n",
            "    libpng-1.6.37              |       hed695b0_2         359 KB  conda-forge\n",
            "    libtiff-4.1.0              |       hc7e4089_6         668 KB  conda-forge\n",
            "    libuuid-2.32.1             |    h14c3975_1000          26 KB  conda-forge\n",
            "    libwebp-base-1.1.0         |       h516909a_3         845 KB  conda-forge\n",
            "    libxcb-1.13                |    h14c3975_1002         396 KB  conda-forge\n",
            "    libxml2-2.9.10             |       h68273f3_2         1.3 MB  conda-forge\n",
            "    lz4-c-1.9.2                |       he1b5a44_3         203 KB  conda-forge\n",
            "    numpy-1.19.2               |   py37h7ea13bd_1         5.2 MB  conda-forge\n",
            "    olefile-0.46               |             py_0          31 KB  conda-forge\n",
            "    openssl-1.1.1h             |       h516909a_0         2.1 MB  conda-forge\n",
            "    pandas-1.1.3               |   py37h9fdb41a_2        10.5 MB  conda-forge\n",
            "    pcre-8.44                  |       he1b5a44_0         261 KB  conda-forge\n",
            "    pillow-7.2.0               |   py37h718be6c_2         671 KB  conda-forge\n",
            "    pixman-0.38.0              |    h516909a_1003         594 KB  conda-forge\n",
            "    pthread-stubs-0.4          |    h14c3975_1001           5 KB  conda-forge\n",
            "    pycairo-1.20.0             |   py37h01af8b0_1          77 KB  conda-forge\n",
            "    python-dateutil-2.8.1      |             py_0         220 KB  conda-forge\n",
            "    python_abi-3.7             |          1_cp37m           4 KB  conda-forge\n",
            "    pytz-2020.1                |     pyh9f0ad1d_0         227 KB  conda-forge\n",
            "    rdkit-2020.03.6            |   py37h0c252aa_1        24.5 MB  conda-forge\n",
            "    tk-8.6.10                  |       hed695b0_1         3.2 MB  conda-forge\n",
            "    xorg-kbproto-1.0.7         |    h14c3975_1002          26 KB  conda-forge\n",
            "    xorg-libice-1.0.10         |       h516909a_0          57 KB  conda-forge\n",
            "    xorg-libsm-1.2.3           |    h84519dc_1000          25 KB  conda-forge\n",
            "    xorg-libx11-1.6.12         |       h516909a_0         917 KB  conda-forge\n",
            "    xorg-libxau-1.0.9          |       h14c3975_0          13 KB  conda-forge\n",
            "    xorg-libxdmcp-1.1.3        |       h516909a_0          18 KB  conda-forge\n",
            "    xorg-libxext-1.3.4         |       h516909a_0          51 KB  conda-forge\n",
            "    xorg-libxrender-0.9.10     |    h516909a_1002          31 KB  conda-forge\n",
            "    xorg-renderproto-0.11.1    |    h14c3975_1002           8 KB  conda-forge\n",
            "    xorg-xextproto-7.3.0       |    h14c3975_1002          27 KB  conda-forge\n",
            "    xorg-xproto-7.0.31         |    h14c3975_1007          72 KB  conda-forge\n",
            "    zstd-1.4.5                 |       h6597ccf_2         712 KB  conda-forge\n",
            "    ------------------------------------------------------------\n",
            "                                           Total:       103.3 MB\n",
            "\n",
            "The following NEW packages will be INSTALLED:\n",
            "\n",
            "  boost              conda-forge/linux-64::boost-1.74.0-py37h48f8a5e_1\n",
            "  boost-cpp          conda-forge/linux-64::boost-cpp-1.74.0-h9359b55_0\n",
            "  bzip2              conda-forge/linux-64::bzip2-1.0.8-h516909a_3\n",
            "  cairo              conda-forge/linux-64::cairo-1.16.0-h3fc0475_1005\n",
            "  fontconfig         conda-forge/linux-64::fontconfig-2.13.1-h1056068_1002\n",
            "  freetype           conda-forge/linux-64::freetype-2.10.3-he06d7ca_0\n",
            "  glib               pkgs/main/linux-64::glib-2.65.0-h3eb4bd4_0\n",
            "  icu                conda-forge/linux-64::icu-67.1-he1b5a44_0\n",
            "  jpeg               conda-forge/linux-64::jpeg-9d-h516909a_0\n",
            "  lcms2              conda-forge/linux-64::lcms2-2.11-hbd6801e_0\n",
            "  libblas            conda-forge/linux-64::libblas-3.8.0-17_openblas\n",
            "  libcblas           conda-forge/linux-64::libcblas-3.8.0-17_openblas\n",
            "  libgfortran-ng     conda-forge/linux-64::libgfortran-ng-7.5.0-hae1eefd_17\n",
            "  libgfortran4       conda-forge/linux-64::libgfortran4-7.5.0-hae1eefd_17\n",
            "  libiconv           conda-forge/linux-64::libiconv-1.16-h516909a_0\n",
            "  liblapack          conda-forge/linux-64::liblapack-3.8.0-17_openblas\n",
            "  libopenblas        conda-forge/linux-64::libopenblas-0.3.10-pthreads_hb3c22a3_5\n",
            "  libpng             conda-forge/linux-64::libpng-1.6.37-hed695b0_2\n",
            "  libtiff            conda-forge/linux-64::libtiff-4.1.0-hc7e4089_6\n",
            "  libuuid            conda-forge/linux-64::libuuid-2.32.1-h14c3975_1000\n",
            "  libwebp-base       conda-forge/linux-64::libwebp-base-1.1.0-h516909a_3\n",
            "  libxcb             conda-forge/linux-64::libxcb-1.13-h14c3975_1002\n",
            "  libxml2            conda-forge/linux-64::libxml2-2.9.10-h68273f3_2\n",
            "  lz4-c              conda-forge/linux-64::lz4-c-1.9.2-he1b5a44_3\n",
            "  numpy              conda-forge/linux-64::numpy-1.19.2-py37h7ea13bd_1\n",
            "  olefile            conda-forge/noarch::olefile-0.46-py_0\n",
            "  pandas             conda-forge/linux-64::pandas-1.1.3-py37h9fdb41a_2\n",
            "  pcre               conda-forge/linux-64::pcre-8.44-he1b5a44_0\n",
            "  pillow             conda-forge/linux-64::pillow-7.2.0-py37h718be6c_2\n",
            "  pixman             conda-forge/linux-64::pixman-0.38.0-h516909a_1003\n",
            "  pthread-stubs      conda-forge/linux-64::pthread-stubs-0.4-h14c3975_1001\n",
            "  pycairo            conda-forge/linux-64::pycairo-1.20.0-py37h01af8b0_1\n",
            "  python-dateutil    conda-forge/noarch::python-dateutil-2.8.1-py_0\n",
            "  python_abi         conda-forge/linux-64::python_abi-3.7-1_cp37m\n",
            "  pytz               conda-forge/noarch::pytz-2020.1-pyh9f0ad1d_0\n",
            "  rdkit              conda-forge/linux-64::rdkit-2020.03.6-py37h0c252aa_1\n",
            "  xorg-kbproto       conda-forge/linux-64::xorg-kbproto-1.0.7-h14c3975_1002\n",
            "  xorg-libice        conda-forge/linux-64::xorg-libice-1.0.10-h516909a_0\n",
            "  xorg-libsm         conda-forge/linux-64::xorg-libsm-1.2.3-h84519dc_1000\n",
            "  xorg-libx11        conda-forge/linux-64::xorg-libx11-1.6.12-h516909a_0\n",
            "  xorg-libxau        conda-forge/linux-64::xorg-libxau-1.0.9-h14c3975_0\n",
            "  xorg-libxdmcp      conda-forge/linux-64::xorg-libxdmcp-1.1.3-h516909a_0\n",
            "  xorg-libxext       conda-forge/linux-64::xorg-libxext-1.3.4-h516909a_0\n",
            "  xorg-libxrender    conda-forge/linux-64::xorg-libxrender-0.9.10-h516909a_1002\n",
            "  xorg-renderproto   conda-forge/linux-64::xorg-renderproto-0.11.1-h14c3975_1002\n",
            "  xorg-xextproto     conda-forge/linux-64::xorg-xextproto-7.3.0-h14c3975_1002\n",
            "  xorg-xproto        conda-forge/linux-64::xorg-xproto-7.0.31-h14c3975_1007\n",
            "  zstd               conda-forge/linux-64::zstd-1.4.5-h6597ccf_2\n",
            "\n",
            "The following packages will be UPDATED:\n",
            "\n",
            "  ca-certificates     pkgs/main::ca-certificates-2020.1.1-0 --> conda-forge::ca-certificates-2020.6.20-hecda079_0\n",
            "  certifi              pkgs/main::certifi-2020.4.5.1-py37_0 --> conda-forge::certifi-2020.6.20-py37he5f6b98_2\n",
            "  conda                       pkgs/main::conda-4.8.3-py37_0 --> conda-forge::conda-4.8.5-py37he5f6b98_2\n",
            "  openssl              pkgs/main::openssl-1.1.1g-h7b6447c_0 --> conda-forge::openssl-1.1.1h-h516909a_0\n",
            "  tk                         pkgs/main::tk-8.6.8-hbc83047_0 --> conda-forge::tk-8.6.10-hed695b0_1\n",
            "\n",
            "\n",
            "Preparing transaction: ...working... done\n",
            "Verifying transaction: ...working... done\n",
            "Executing transaction: ...working... done\n",
            "\n",
            "real\t0m42.480s\n",
            "user\t0m36.042s\n",
            "sys\t0m4.221s\n"
          ],
          "name": "stdout"
        }
      ]
    },
    {
      "cell_type": "code",
      "metadata": {
        "id": "jFjrM1KsIF5U"
      },
      "source": [
        "import numpy as np\n",
        "import pandas as pd\n",
        "from rdkit import Chem\n",
        "from rdkit.Chem import Draw\n",
        "from rdkit.Chem.Draw import IPythonConsole"
      ],
      "execution_count": 5,
      "outputs": []
    },
    {
      "cell_type": "code",
      "metadata": {
        "id": "ijGU6NsfPGZ_",
        "outputId": "3f532d94-ec59-4a2c-a7a5-58e6717202ff",
        "colab": {
          "base_uri": "https://localhost:8080/",
          "height": 1000
        }
      },
      "source": [
        "train = pd.read_csv(\"train.csv\")\n",
        "test = pd.read_csv(\"test.csv\")\n",
        "sample_submission = pd.read_csv(\"sample_submission.csv\")\n",
        "vocabulary = open(\"vocabulary.txt\").read()\n",
        "print(train.head())\n",
        "print(test.head())\n",
        "print(sample_submission.head())\n",
        "print(vocabulary)"
      ],
      "execution_count": 6,
      "outputs": [
        {
          "output_type": "stream",
          "text": [
            "                             SMILES                   SENTENCE\n",
            "0       C/C=C/C(=O)C1CCC(C=C1C)(C)C                fruity,rose\n",
            "1                         COC(=O)OC      fresh,ethereal,fruity\n",
            "2               Cc1cc2c([nH]1)cccc2          resinous,animalic\n",
            "3            C1CCCCCCCC(=O)CCCCCCC1      powdery,musk,animalic\n",
            "4  CC(CC(=O)OC1CC2C(C1(C)CC2)(C)C)C  coniferous,camphor,fruity\n",
            "                             SMILES\n",
            "0    CCC(C)C(=O)OC1CC2CCC1(C)C2(C)C\n",
            "1      CC(C)C1CCC(C)CC1OC(=O)CC(C)O\n",
            "2   CC(=O)/C=C/C1=CCC[C@H](C1(C)C)C\n",
            "3        CC(=O)OCC(COC(=O)C)OC(=O)C\n",
            "4  CCCCCCCC(=O)OC/C=C(/CCC=C(C)C)\\C\n",
            "                             SMILES                                        PREDICTIONS\n",
            "0    CCC(C)C(=O)OC1CC2CCC1(C)C2(C)C  coconut,cooling,watery;ambergris,plum,ripe;alm...\n",
            "1      CC(C)C1CCC(C)CC1OC(=O)CC(C)O  apple,leaf,seafood;alcoholic,ethereal,whiteflo...\n",
            "2   CC(=O)/C=C/C1=CCC[C@H](C1(C)C)C  cacao,fermented,grape;floral,herbal,powdery;an...\n",
            "3        CC(=O)OCC(COC(=O)C)OC(=O)C  apple,coconut,syrup;alliaceous,cooked,liquor;h...\n",
            "4  CCCCCCCC(=O)OC/C=C(/CCC=C(C)C)\\C  camphor,cheese,wine;fruity,lemon,waxy;coconut,...\n",
            "alcoholic\n",
            "aldehydic\n",
            "alliaceous\n",
            "almond\n",
            "ambergris\n",
            "ambery\n",
            "ambrette\n",
            "ammoniac\n",
            "animalic\n",
            "anisic\n",
            "apple\n",
            "balsamic\n",
            "banana\n",
            "berry\n",
            "blackcurrant\n",
            "blueberry\n",
            "body\n",
            "bread\n",
            "burnt\n",
            "butter\n",
            "cacao\n",
            "camphor\n",
            "caramellic\n",
            "cedar\n",
            "cheese\n",
            "chemical\n",
            "cherry\n",
            "cinnamon\n",
            "citrus\n",
            "clean\n",
            "clove\n",
            "coconut\n",
            "coffee\n",
            "cognac\n",
            "coniferous\n",
            "cooked\n",
            "cooling\n",
            "cucumber\n",
            "dairy\n",
            "dry\n",
            "earthy\n",
            "ester\n",
            "ethereal\n",
            "fatty\n",
            "fennel\n",
            "fermented\n",
            "floral\n",
            "fresh\n",
            "fruity\n",
            "geranium\n",
            "gourmand\n",
            "grape\n",
            "grapefruit\n",
            "grass\n",
            "green\n",
            "herbal\n",
            "honey\n",
            "hyacinth\n",
            "jasmin\n",
            "lactonic\n",
            "leaf\n",
            "leather\n",
            "lemon\n",
            "lily\n",
            "liquor\n",
            "meat\n",
            "medicinal\n",
            "melon\n",
            "metallic\n",
            "mint\n",
            "mushroom\n",
            "musk\n",
            "musty\n",
            "nut\n",
            "odorless\n",
            "oily\n",
            "orange\n",
            "overripe\n",
            "pear\n",
            "pepper\n",
            "phenolic\n",
            "plastic\n",
            "plum\n",
            "powdery\n",
            "pungent\n",
            "rancid\n",
            "resinous\n",
            "ripe\n",
            "roasted\n",
            "rose\n",
            "seafood\n",
            "sharp\n",
            "smoky\n",
            "sour\n",
            "spicy\n",
            "sulfuric\n",
            "sweet\n",
            "syrup\n",
            "terpenic\n",
            "tobacco\n",
            "tropicalfruit\n",
            "vanilla\n",
            "vegetable\n",
            "violetflower\n",
            "watery\n",
            "waxy\n",
            "whiteflower\n",
            "wine\n",
            "woody\n"
          ],
          "name": "stdout"
        }
      ]
    },
    {
      "cell_type": "markdown",
      "metadata": {
        "id": "oHVTawtapcjk"
      },
      "source": [
        "Convert smiles to rdkit Mol objects"
      ]
    },
    {
      "cell_type": "code",
      "metadata": {
        "id": "M2WBAoAcSfhk"
      },
      "source": [
        "mols = [Chem.MolFromSmiles(smile) for smile in train.SMILES]\n",
        "mols_test = [Chem.MolFromSmiles(smile) for smile in test.SMILES]"
      ],
      "execution_count": 7,
      "outputs": []
    },
    {
      "cell_type": "markdown",
      "metadata": {
        "id": "YfhKWyDzpg5e"
      },
      "source": [
        "Let's have a look at the data:"
      ]
    },
    {
      "cell_type": "code",
      "metadata": {
        "id": "WCuVJikhTs3U"
      },
      "source": [
        "img = Draw.MolsToGridImage(mols[:8],molsPerRow=4,subImgSize=(256,256), legends=train.SENTENCE.tolist()[:8])"
      ],
      "execution_count": 8,
      "outputs": []
    },
    {
      "cell_type": "code",
      "metadata": {
        "id": "DUjs-U560n2H",
        "outputId": "c1798294-af3b-4d5c-b7c7-713a4989233c",
        "colab": {
          "base_uri": "https://localhost:8080/",
          "height": 529
        }
      },
      "source": [
        "img"
      ],
      "execution_count": 9,
      "outputs": [
        {
          "output_type": "execute_result",
          "data": {
            "image/png": "[encoded data removed]",
            "text/plain": [
              "<PIL.PngImagePlugin.PngImageFile image mode=RGB size=1024x512 at 0x7F22145A7AC8>"
            ]
          },
          "metadata": {
            "tags": []
          },
          "execution_count": 9
        }
      ]
    },
    {
      "cell_type": "markdown",
      "metadata": {
        "id": "y3HlgNMRpn5v"
      },
      "source": [
        "Saving the data as images:"
      ]
    },
    {
      "cell_type": "code",
      "metadata": {
        "id": "LqUwvvEBg5-g"
      },
      "source": [
        "!mkdir imgs\n",
        "!mkdir imgs_test"
      ],
      "execution_count": 10,
      "outputs": []
    },
    {
      "cell_type": "code",
      "metadata": {
        "id": "3wPlC_xxeBgY"
      },
      "source": [
        "for i in range(len(mols)):\n",
        "  Draw.MolToFile(mols[i], \"imgs/{}.png\".format(i), size=(256,256), imageType=\"png\")\n",
        "for i in range(len(mols_test)):\n",
        "  Draw.MolToFile(mols_test[i], \"imgs_test/{}.png\".format(i), size=(256,256), imageType=\"png\")"
      ],
      "execution_count": 11,
      "outputs": []
    },
    {
      "cell_type": "markdown",
      "metadata": {
        "id": "CYtpiQifprXB"
      },
      "source": [
        "Representing vocabulary as a one-hot vector:"
      ]
    },
    {
      "cell_type": "code",
      "metadata": {
        "id": "eifzSiF82TSn"
      },
      "source": [
        "vocabulary = vocabulary.split('\\n')"
      ],
      "execution_count": null,
      "outputs": []
    },
    {
      "cell_type": "code",
      "metadata": {
        "id": "jfOw5rCZ1-07"
      },
      "source": [
        "def oneHotSentence(sentence):\n",
        "  l = np.zeros(len(vocabulary))\n",
        "  for label in sentence.split(','):\n",
        "    l[vocabulary.index(label)] = 1\n",
        "  return l"
      ],
      "execution_count": null,
      "outputs": []
    },
    {
      "cell_type": "code",
      "metadata": {
        "id": "zzhwmA3DbWQX"
      },
      "source": [
        "y = np.zeros((train.shape[0], len(vocabulary)), dtype=np.float32)"
      ],
      "execution_count": null,
      "outputs": []
    },
    {
      "cell_type": "code",
      "metadata": {
        "id": "eTscaPVxcNsl"
      },
      "source": [
        "for i in range(train.shape[0]):\n",
        "  y[i] = oneHotSentence(train.SENTENCE.iloc[i])"
      ],
      "execution_count": null,
      "outputs": []
    },
    {
      "cell_type": "markdown",
      "metadata": {
        "id": "DViWe_xTp2Lf"
      },
      "source": [
        "Dataset and train pipeline: <br>\n",
        "**Credits to**: https://towardsdatascience.com/multi-label-image-classification-in-tensorflow-2-0-7d4cf8a4bc72"
      ]
    },
    {
      "cell_type": "code",
      "metadata": {
        "id": "DauBGPsN6NRe"
      },
      "source": [
        "IMG_SIZE = 256 \n",
        "CHANNELS = 3 \n",
        "def parse_function(filename, label):\n",
        "    # Read an image from a file\n",
        "    image_string = tf.io.read_file(filename)\n",
        "    # Decode it into a dense vector\n",
        "    image_decoded = tf.image.decode_png(image_string, channels=CHANNELS)\n",
        "    # Normalize it from [0, 255] to [0.0, 1.0]\n",
        "    image_normalized = tf.cast(image_decoded, tf.float32) / 255.0\n",
        "    return image_normalized, label\n"
      ],
      "execution_count": null,
      "outputs": []
    },
    {
      "cell_type": "code",
      "metadata": {
        "id": "WL2pmg4L5wp2"
      },
      "source": [
        "import tensorflow as tf\n",
        "tf.random.set_seed(0)\n",
        "\n",
        "BATCH_SIZE = 64 \n",
        "AUTOTUNE = tf.data.experimental.AUTOTUNE # Adapt preprocessing and prefetching dynamically to reduce GPU and CPU idle time\n",
        "SHUFFLE_BUFFER_SIZE = 1024 # Shuffle the training data by a chunck of 1024 observations\n",
        "def create_dataset(filenames, labels, is_training=True):\n",
        "    # Create a first dataset of file paths and labels\n",
        "    dataset = tf.data.Dataset.from_tensor_slices((filenames, labels))\n",
        "    # Parse and preprocess observations in parallel\n",
        "    dataset = dataset.map(parse_function, num_parallel_calls=AUTOTUNE)\n",
        "    \n",
        "    if is_training == True:\n",
        "        # This is a small dataset, only load it once, and keep it in memory.\n",
        "        dataset = dataset.cache()\n",
        "        # Shuffle the data each buffer size\n",
        "        dataset = dataset.shuffle(buffer_size=SHUFFLE_BUFFER_SIZE)\n",
        "        \n",
        "    # Batch the data for multiple steps\n",
        "    dataset = dataset.batch(BATCH_SIZE)\n",
        "    # Fetch batches in the background while the model is training.\n",
        "    dataset = dataset.prefetch(buffer_size=AUTOTUNE)\n",
        "    \n",
        "    return dataset\n"
      ],
      "execution_count": null,
      "outputs": []
    },
    {
      "cell_type": "code",
      "metadata": {
        "id": "TVjyk-2KPE5c"
      },
      "source": [
        "filenames = np.array([\"imgs/{}.png\".format(i) for i in range(train.shape[0])])"
      ],
      "execution_count": null,
      "outputs": []
    },
    {
      "cell_type": "markdown",
      "metadata": {
        "id": "rOkV3yfwqPae"
      },
      "source": [
        "Split train and validation sets:"
      ]
    },
    {
      "cell_type": "code",
      "metadata": {
        "id": "_DkdpZkIeNYS"
      },
      "source": [
        "from sklearn.model_selection import train_test_split\n",
        "X_train, X_val, y_train, y_val = train_test_split(filenames, y, test_size=0.1, random_state=0)"
      ],
      "execution_count": null,
      "outputs": []
    },
    {
      "cell_type": "code",
      "metadata": {
        "id": "qIGfjvgaPqnT"
      },
      "source": [
        "train_ds = create_dataset(X_train, y_train)\n",
        "val_ds = create_dataset(X_val, y_val)"
      ],
      "execution_count": null,
      "outputs": []
    },
    {
      "cell_type": "markdown",
      "metadata": {
        "id": "E1UaVP-iustL"
      },
      "source": [
        "Use Tensorflow Hub to get pretrained inception_v3 model:"
      ]
    },
    {
      "cell_type": "code",
      "metadata": {
        "id": "d2vKeiMUds9U"
      },
      "source": [
        "import tensorflow_hub as hub\n",
        "\n",
        "feature_extractor_url = \"https://tfhub.dev/google/imagenet/inception_v3/feature_vector/4\"\n",
        "feature_extractor_layer = hub.KerasLayer(feature_extractor_url,\n",
        "                                         input_shape=(IMG_SIZE,IMG_SIZE,CHANNELS))"
      ],
      "execution_count": null,
      "outputs": []
    },
    {
      "cell_type": "code",
      "metadata": {
        "id": "U6D_h9LuerFg"
      },
      "source": [
        "feature_extractor_layer.trainable = False"
      ],
      "execution_count": null,
      "outputs": []
    },
    {
      "cell_type": "code",
      "metadata": {
        "id": "nfTQkUDze6AL"
      },
      "source": [
        "from tensorflow.keras import layers\n",
        "from tensorflow.keras.losses import BinaryCrossentropy"
      ],
      "execution_count": null,
      "outputs": []
    },
    {
      "cell_type": "code",
      "metadata": {
        "id": "ispndrZZeunQ",
        "outputId": "d86cfe25-2004-4b7c-84f6-bcdb4622774f",
        "colab": {
          "base_uri": "https://localhost:8080/",
          "height": 255
        }
      },
      "source": [
        "model = tf.keras.Sequential([\n",
        "    feature_extractor_layer,\n",
        "    layers.Dense(1024, activation='relu', name='hidden_layer'),\n",
        "    layers.Dense(len(vocabulary), activation='sigmoid', name='output')\n",
        "])\n",
        "\n",
        "model.summary()"
      ],
      "execution_count": null,
      "outputs": [
        {
          "output_type": "stream",
          "text": [
            "Model: \"sequential\"\n",
            "_________________________________________________________________\n",
            "Layer (type)                 Output Shape              Param #   \n",
            "=================================================================\n",
            "keras_layer (KerasLayer)     (None, 2048)              21802784  \n",
            "_________________________________________________________________\n",
            "hidden_layer (Dense)         (None, 1024)              2098176   \n",
            "_________________________________________________________________\n",
            "output (Dense)               (None, 109)               111725    \n",
            "=================================================================\n",
            "Total params: 24,012,685\n",
            "Trainable params: 2,209,901\n",
            "Non-trainable params: 21,802,784\n",
            "_________________________________________________________________\n"
          ],
          "name": "stdout"
        }
      ]
    },
    {
      "cell_type": "code",
      "metadata": {
        "id": "WYXzKkqFficb"
      },
      "source": [
        "LR = 1e-5 \n",
        "EPOCHS = 8\n",
        "model.compile(\n",
        "  optimizer=tf.keras.optimizers.Adam(learning_rate=LR),\n",
        "  loss=BinaryCrossentropy(),\n",
        "  metrics=[\"accuracy\"])"
      ],
      "execution_count": null,
      "outputs": []
    },
    {
      "cell_type": "markdown",
      "metadata": {
        "id": "J1183sC7qUyM"
      },
      "source": [
        "Start Training:"
      ]
    },
    {
      "cell_type": "code",
      "metadata": {
        "id": "92IeVuMqf_jv",
        "outputId": "6953ed68-7bfd-48ff-9cab-a6e754ebd4eb",
        "colab": {
          "base_uri": "https://localhost:8080/",
          "height": 289
        }
      },
      "source": [
        "from time import time\n",
        "history = model.fit(train_ds,\n",
        "                    epochs=EPOCHS,\n",
        "                    validation_data=val_ds)"
      ],
      "execution_count": null,
      "outputs": [
        {
          "output_type": "stream",
          "text": [
            "Epoch 1/8\n",
            "61/61 [==============================] - 31s 501ms/step - loss: 0.5745 - accuracy: 0.0062 - val_loss: 0.4217 - val_accuracy: 0.0116\n",
            "Epoch 2/8\n",
            "61/61 [==============================] - 26s 425ms/step - loss: 0.3125 - accuracy: 0.0142 - val_loss: 0.2195 - val_accuracy: 0.0116\n",
            "Epoch 3/8\n",
            "61/61 [==============================] - 26s 428ms/step - loss: 0.1772 - accuracy: 0.0260 - val_loss: 0.1449 - val_accuracy: 0.0463\n",
            "Epoch 4/8\n",
            "61/61 [==============================] - 26s 427ms/step - loss: 0.1343 - accuracy: 0.0631 - val_loss: 0.1231 - val_accuracy: 0.0625\n",
            "Epoch 5/8\n",
            "61/61 [==============================] - 26s 427ms/step - loss: 0.1210 - accuracy: 0.0693 - val_loss: 0.1156 - val_accuracy: 0.0602\n",
            "Epoch 6/8\n",
            "61/61 [==============================] - 26s 425ms/step - loss: 0.1160 - accuracy: 0.0711 - val_loss: 0.1123 - val_accuracy: 0.0602\n",
            "Epoch 7/8\n",
            "61/61 [==============================] - 26s 423ms/step - loss: 0.1136 - accuracy: 0.0754 - val_loss: 0.1106 - val_accuracy: 0.0625\n",
            "Epoch 8/8\n",
            "61/61 [==============================] - 26s 423ms/step - loss: 0.1123 - accuracy: 0.0762 - val_loss: 0.1095 - val_accuracy: 0.0625\n"
          ],
          "name": "stdout"
        }
      ]
    },
    {
      "cell_type": "code",
      "metadata": {
        "id": "5PjBCW5DmvWO"
      },
      "source": [
        "val_preds = model.predict(val_ds)"
      ],
      "execution_count": null,
      "outputs": []
    },
    {
      "cell_type": "markdown",
      "metadata": {
        "id": "8kHjZBEHqZHk"
      },
      "source": [
        "Let's sanity check some outputs:"
      ]
    },
    {
      "cell_type": "code",
      "metadata": {
        "id": "ilfGGMiBr9cu"
      },
      "source": [
        "ind = 64"
      ],
      "execution_count": null,
      "outputs": []
    },
    {
      "cell_type": "code",
      "metadata": {
        "id": "vgTBhCQcohpb",
        "outputId": "fe08eabd-0044-49f6-9236-78a9fecc6f30",
        "colab": {
          "base_uri": "https://localhost:8080/",
          "height": 85
        }
      },
      "source": [
        "for i in np.argpartition(val_preds[ind], -4)[-4:]: #This gets the indices of top four predictions\n",
        "  print(vocabulary[i])"
      ],
      "execution_count": null,
      "outputs": [
        {
          "output_type": "stream",
          "text": [
            "floral\n",
            "herbal\n",
            "fruity\n",
            "woody\n"
          ],
          "name": "stdout"
        }
      ]
    },
    {
      "cell_type": "code",
      "metadata": {
        "id": "iONztNlSopmX",
        "outputId": "f1251212-7657-4a04-c612-a3543a701bd1",
        "colab": {
          "base_uri": "https://localhost:8080/",
          "height": 35
        }
      },
      "source": [
        "filename = X_val[ind]\n",
        "train.SENTENCE.iloc[int(filename[5:-4])]"
      ],
      "execution_count": null,
      "outputs": [
        {
          "output_type": "execute_result",
          "data": {
            "application/vnd.google.colaboratory.intrinsic+json": {
              "type": "string"
            },
            "text/plain": [
              "'oily,fruity'"
            ]
          },
          "metadata": {
            "tags": []
          },
          "execution_count": 30
        }
      ]
    },
    {
      "cell_type": "markdown",
      "metadata": {
        "id": "WY9jzxp0vxcJ"
      },
      "source": [
        "Looks like the model is overfitting; let's submit predictions anyway."
      ]
    },
    {
      "cell_type": "markdown",
      "metadata": {
        "id": "4lfIFPU4qvcB"
      },
      "source": [
        "Now load the test set and make predictions:"
      ]
    },
    {
      "cell_type": "code",
      "metadata": {
        "id": "gdpTRGkOLeA8"
      },
      "source": [
        "filenames_test = [\"imgs_test/{}.png\".format(i) for i in range(test.shape[0])]\n",
        "imgs_test = np.zeros((len(filenames_test), 256,256,3))\n",
        "i = 0\n",
        "for filename in filenames_test:\n",
        "  imgs_test[i] = parse_function(filename,0)[0]\n",
        "  i += 1"
      ],
      "execution_count": null,
      "outputs": []
    },
    {
      "cell_type": "code",
      "metadata": {
        "id": "ns5PC60HaNCS"
      },
      "source": [
        "preds_test = model.predict(imgs_test)"
      ],
      "execution_count": null,
      "outputs": []
    },
    {
      "cell_type": "markdown",
      "metadata": {
        "id": "hfzr2Gigq1Me"
      },
      "source": [
        "In this part we take the top 15 predictions and convert them to sentence format for submission:"
      ]
    },
    {
      "cell_type": "code",
      "metadata": {
        "id": "1gZZhpehs4U_"
      },
      "source": [
        "predictions = []\n",
        "for i in range(preds_test.shape[0]):\n",
        "  top_15 = np.argpartition(preds_test[i], -15)[-15:] #Get indices of top 15 predictions\n",
        "  top_15_voc = [vocabulary[i] for i in top_15] #Get words from those indices\n",
        "  pred_string = \"\"\n",
        "  for i in range(0,15,3):\n",
        "    pred_string += ','.join(top_15_voc[i:i+3]) + ';'\n",
        "  predictions.append(pred_string[:-1]) "
      ],
      "execution_count": null,
      "outputs": []
    },
    {
      "cell_type": "code",
      "metadata": {
        "id": "Wh_F84Mldl3Y"
      },
      "source": [
        "sample_submission.PREDICTIONS = predictions"
      ],
      "execution_count": null,
      "outputs": []
    },
    {
      "cell_type": "code",
      "metadata": {
        "id": "qh94YpmOdtv9"
      },
      "source": [
        "sample_submission.to_csv(\"CNN_submission.csv\",index=None)"
      ],
      "execution_count": 12,
      "outputs": []
    },
    {
      "cell_type": "code",
      "metadata": {
        "id": "_AhKpSptnoKb",
        "outputId": "bac45b97-c1f6-451e-e611-427c693a1a4a",
        "colab": {
          "base_uri": "https://localhost:8080/",
          "height": 17
        }
      },
      "source": [
        "from google.colab import files\n",
        "files.download('CNN_submission.csv') "
      ],
      "execution_count": 13,
      "outputs": [
        {
          "output_type": "display_data",
          "data": {
            "application/javascript": [
              "\n",
              "    async function download(id, filename, size) {\n",
              "      if (!google.colab.kernel.accessAllowed) {\n",
              "        return;\n",
              "      }\n",
              "      const div = document.createElement('div');\n",
              "      const label = document.createElement('label');\n",
              "      label.textContent = `Downloading \"${filename}\": `;\n",
              "      div.appendChild(label);\n",
              "      const progress = document.createElement('progress');\n",
              "      progress.max = size;\n",
              "      div.appendChild(progress);\n",
              "      document.body.appendChild(div);\n",
              "\n",
              "      const buffers = [];\n",
              "      let downloaded = 0;\n",
              "\n",
              "      const channel = await google.colab.kernel.comms.open(id);\n",
              "      // Send a message to notify the kernel that we're ready.\n",
              "      channel.send({})\n",
              "\n",
              "      for await (const message of channel.messages) {\n",
              "        // Send a message to notify the kernel that we're ready.\n",
              "        channel.send({})\n",
              "        if (message.buffers) {\n",
              "          for (const buffer of message.buffers) {\n",
              "            buffers.push(buffer);\n",
              "            downloaded += buffer.byteLength;\n",
              "            progress.value = downloaded;\n",
              "          }\n",
              "        }\n",
              "      }\n",
              "      const blob = new Blob(buffers, {type: 'application/binary'});\n",
              "      const a = document.createElement('a');\n",
              "      a.href = window.URL.createObjectURL(blob);\n",
              "      a.download = filename;\n",
              "      div.appendChild(a);\n",
              "      a.click();\n",
              "      div.remove();\n",
              "    }\n",
              "  "
            ],
            "text/plain": [
              "<IPython.core.display.Javascript object>"
            ]
          },
          "metadata": {
            "tags": []
          }
        },
        {
          "output_type": "display_data",
          "data": {
            "application/javascript": [
              "download(\"download_2eed8749-214a-415e-b278-4284fbb49ae0\", \"CNN_submission.csv\", 147023)"
            ],
            "text/plain": [
              "<IPython.core.display.Javascript object>"
            ]
          },
          "metadata": {
            "tags": []
          }
        }
      ]
    },
    {
      "cell_type": "markdown",
      "metadata": {
        "id": "_duYVaTvx-ZK"
      },
      "source": [
        "This was a simple guide exploring CNNs in the context of this competition and getting started with a simple pipeline.<br>If you have suggestions/improvements I'm all ears."
      ]
    }
  ]
}
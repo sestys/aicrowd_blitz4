{
  "nbformat": 4,
  "nbformat_minor": 0,
  "metadata": {
    "colab": {
      "name": "OlfactoryExplainer.ipynb",
      "provenance": [],
      "collapsed_sections": [],
      "include_colab_link": true
    },
    "kernelspec": {
      "name": "python3",
      "display_name": "Python 3"
    },
    "accelerator": "GPU"
  },
  "cells": [
    {
      "cell_type": "markdown",
      "metadata": {
        "id": "view-in-github",
        "colab_type": "text"
      },
      "source": [
        "<a href=\"https://colab.research.google.com/github/sestys/aicrowd_blitz4/blob/main/smeel_intro.ipynb\" target=\"_parent\"><img src=\"https://colab.research.google.com/assets/colab-badge.svg\" alt=\"Open In Colab\"/></a>"
      ]
    },
    {
      "cell_type": "markdown",
      "metadata": {
        "id": "9ctMPsJrllXp"
      },
      "source": [
        "This is a quick guide exploring what CNNs can do with an image representation of molecules\n",
        "\n",
        "Covered in this guide:\n",
        "\n",
        "1- Downloading and using rdkit <br>\n",
        "2- Visualizing molecules using rdkit <br>\n",
        "3- Using a pretrained inception_v3 model <br>\n",
        "4- making predictions and submission file <br>"
      ]
    },
    {
      "cell_type": "markdown",
      "metadata": {
        "id": "ijDfwV3fpGpC"
      },
      "source": [
        "We first download the data:"
      ]
    },
    {
      "cell_type": "code",
      "metadata": {
        "id": "At_X87tqVxFb",
        "outputId": "c64c0973-210c-459a-a3ff-f5da1f7f4511",
        "colab": {
          "base_uri": "https://localhost:8080/",
          "height": 85
        }
      },
      "source": [
        "!gdown --id 1t5be8KLHOz3YuSmiiPQjopb4c_q2U4tG"
      ],
      "execution_count": null,
      "outputs": [
        {
          "output_type": "stream",
          "text": [
            "Downloading...\n",
            "From: https://drive.google.com/uc?id=1t5be8KLHOz3YuSmiiPQjopb4c_q2U4tG\n",
            "To: /content/olfactorydata.zip\n",
            "\r  0% 0.00/94.3k [00:00<?, ?B/s]\r100% 94.3k/94.3k [00:00<00:00, 42.7MB/s]\n"
          ],
          "name": "stdout"
        }
      ]
    },
    {
      "cell_type": "code",
      "metadata": {
        "id": "Adsz30c3Vdqm",
        "outputId": "ca573a76-5d6c-478a-c7b6-9204597f0695",
        "colab": {
          "base_uri": "https://localhost:8080/",
          "height": 102
        }
      },
      "source": [
        "!unzip olfactorydata.zip "
      ],
      "execution_count": null,
      "outputs": [
        {
          "output_type": "stream",
          "text": [
            "Archive:  olfactorydata.zip\n",
            "  inflating: train.csv               \n",
            "  inflating: test.csv                \n",
            "  inflating: sample_submission.csv   \n",
            "  inflating: vocabulary.txt          \n"
          ],
          "name": "stdout"
        }
      ]
    },
    {
      "cell_type": "code",
      "metadata": {
        "id": "lJKMmHcMkWNZ",
        "outputId": "ec8615da-561c-4a0a-ecc7-1bca24641b3c",
        "colab": {
          "base_uri": "https://localhost:8080/",
          "height": 51
        }
      },
      "source": [
        "!ls"
      ],
      "execution_count": null,
      "outputs": [
        {
          "output_type": "stream",
          "text": [
            "olfactorydata.zip  sample_submission.csv  train.csv\n",
            "sample_data\t   test.csv\t\t  vocabulary.txt\n"
          ],
          "name": "stdout"
        }
      ]
    },
    {
      "cell_type": "markdown",
      "metadata": {
        "id": "aRyP9ZyhpFXw"
      },
      "source": [
        "Next we install rdkit:\n",
        "\n",
        "**Credits to**: https://stackoverflow.com/questions/63152656/installing-rdkit-in-google-colab"
      ]
    },
    {
      "cell_type": "code",
      "metadata": {
        "id": "Cz0-u5yMIVpr"
      },
      "source": [
        "!wget -q -c https://repo.continuum.io/miniconda/Miniconda3-py37_4.8.3-Linux-x86_64.sh\n",
        "!chmod +x Miniconda3-py37_4.8.3-Linux-x86_64.sh\n",
        "!time bash ./Miniconda3-py37_4.8.3-Linux-x86_64.sh -b -q -f -p /usr/local\n",
        "!time conda install -q -y -c conda-forge rdkit\n",
        "\n",
        "import sys\n",
        "sys.path.append('/usr/local/lib/python3.7/site-packages/')"
      ],
      "execution_count": null,
      "outputs": []
    },
    {
      "cell_type": "code",
      "metadata": {
        "id": "jFjrM1KsIF5U"
      },
      "source": [
        "import numpy as np\n",
        "import pandas as pd\n",
        "from rdkit import Chem\n",
        "from rdkit.Chem import Draw\n",
        "from rdkit.Chem.Draw import IPythonConsole"
      ],
      "execution_count": null,
      "outputs": []
    },
    {
      "cell_type": "code",
      "metadata": {
        "id": "ijGU6NsfPGZ_"
      },
      "source": [
        "train = pd.read_csv(\"train.csv\")\n",
        "test = pd.read_csv(\"test.csv\")\n",
        "sample_submission = pd.read_csv(\"sample_submission.csv\")\n",
        "vocabulary = open(\"vocabulary.txt\").read()"
      ],
      "execution_count": null,
      "outputs": []
    },
    {
      "cell_type": "markdown",
      "metadata": {
        "id": "oHVTawtapcjk"
      },
      "source": [
        "Convert smiles to rdkit Mol objects"
      ]
    },
    {
      "cell_type": "code",
      "metadata": {
        "id": "M2WBAoAcSfhk"
      },
      "source": [
        "mols = [Chem.MolFromSmiles(smile) for smile in train.SMILES]\n",
        "mols_test = [Chem.MolFromSmiles(smile) for smile in test.SMILES]"
      ],
      "execution_count": null,
      "outputs": []
    },
    {
      "cell_type": "markdown",
      "metadata": {
        "id": "YfhKWyDzpg5e"
      },
      "source": [
        "Let's have a look at the data:"
      ]
    },
    {
      "cell_type": "code",
      "metadata": {
        "id": "WCuVJikhTs3U"
      },
      "source": [
        "img = Draw.MolsToGridImage(mols[:8],molsPerRow=4,subImgSize=(256,256), legends=train.SENTENCE.tolist()[:8])"
      ],
      "execution_count": null,
      "outputs": []
    },
    {
      "cell_type": "code",
      "metadata": {
        "id": "DUjs-U560n2H",
        "outputId": "7fecbe16-a8b9-4b3e-b665-d2544e83090c",
        "colab": {
          "base_uri": "https://localhost:8080/",
          "height": 467
        }
      },
      "source": [
        "img"
      ],
      "execution_count": null,
      "outputs": [
        {
          "output_type": "execute_result",
          "data": {
            "image/png": "[encoded data removed]",
            "text/plain": [
              "<PIL.PngImagePlugin.PngImageFile image mode=RGB size=2048x512 at 0x7F9C4669A5F8>"
            ]
          },
          "metadata": {
            "tags": []
          },
          "execution_count": 37
        }
      ]
    },
    {
      "cell_type": "markdown",
      "metadata": {
        "id": "y3HlgNMRpn5v"
      },
      "source": [
        "Saving the data as images:"
      ]
    },
    {
      "cell_type": "code",
      "metadata": {
        "id": "LqUwvvEBg5-g"
      },
      "source": [
        "!mkdir imgs\n",
        "!mkdir imgs_test"
      ],
      "execution_count": null,
      "outputs": []
    },
    {
      "cell_type": "code",
      "metadata": {
        "id": "3wPlC_xxeBgY"
      },
      "source": [
        "for i in range(len(mols)):\n",
        "  Draw.MolToFile(mols[i], \"imgs/{}.png\".format(i), size=(256,256), imageType=\"png\")\n",
        "for i in range(len(mols_test)):\n",
        "  Draw.MolToFile(mols_test[i], \"imgs_test/{}.png\".format(i), size=(256,256), imageType=\"png\")"
      ],
      "execution_count": null,
      "outputs": []
    },
    {
      "cell_type": "markdown",
      "metadata": {
        "id": "CYtpiQifprXB"
      },
      "source": [
        "Representing vocabulary as a one-hot vector:"
      ]
    },
    {
      "cell_type": "code",
      "metadata": {
        "id": "eifzSiF82TSn"
      },
      "source": [
        "vocabulary = vocabulary.split('\\n')"
      ],
      "execution_count": null,
      "outputs": []
    },
    {
      "cell_type": "code",
      "metadata": {
        "id": "jfOw5rCZ1-07"
      },
      "source": [
        "def oneHotSentence(sentence):\n",
        "  l = np.zeros(len(vocabulary))\n",
        "  for label in sentence.split(','):\n",
        "    l[vocabulary.index(label)] = 1\n",
        "  return l"
      ],
      "execution_count": null,
      "outputs": []
    },
    {
      "cell_type": "code",
      "metadata": {
        "id": "zzhwmA3DbWQX"
      },
      "source": [
        "y = np.zeros((train.shape[0], len(vocabulary)), dtype=np.float32)"
      ],
      "execution_count": null,
      "outputs": []
    },
    {
      "cell_type": "code",
      "metadata": {
        "id": "eTscaPVxcNsl"
      },
      "source": [
        "for i in range(train.shape[0]):\n",
        "  y[i] = oneHotSentence(train.SENTENCE.iloc[i])"
      ],
      "execution_count": null,
      "outputs": []
    },
    {
      "cell_type": "markdown",
      "metadata": {
        "id": "DViWe_xTp2Lf"
      },
      "source": [
        "Dataset and train pipeline: <br>\n",
        "**Credits to**: https://towardsdatascience.com/multi-label-image-classification-in-tensorflow-2-0-7d4cf8a4bc72"
      ]
    },
    {
      "cell_type": "code",
      "metadata": {
        "id": "DauBGPsN6NRe"
      },
      "source": [
        "IMG_SIZE = 256 \n",
        "CHANNELS = 3 \n",
        "def parse_function(filename, label):\n",
        "    # Read an image from a file\n",
        "    image_string = tf.io.read_file(filename)\n",
        "    # Decode it into a dense vector\n",
        "    image_decoded = tf.image.decode_png(image_string, channels=CHANNELS)\n",
        "    # Normalize it from [0, 255] to [0.0, 1.0]\n",
        "    image_normalized = tf.cast(image_decoded, tf.float32) / 255.0\n",
        "    return image_normalized, label\n"
      ],
      "execution_count": null,
      "outputs": []
    },
    {
      "cell_type": "code",
      "metadata": {
        "id": "WL2pmg4L5wp2"
      },
      "source": [
        "import tensorflow as tf\n",
        "tf.random.set_seed(0)\n",
        "\n",
        "BATCH_SIZE = 64 \n",
        "AUTOTUNE = tf.data.experimental.AUTOTUNE # Adapt preprocessing and prefetching dynamically to reduce GPU and CPU idle time\n",
        "SHUFFLE_BUFFER_SIZE = 1024 # Shuffle the training data by a chunck of 1024 observations\n",
        "def create_dataset(filenames, labels, is_training=True):\n",
        "    # Create a first dataset of file paths and labels\n",
        "    dataset = tf.data.Dataset.from_tensor_slices((filenames, labels))\n",
        "    # Parse and preprocess observations in parallel\n",
        "    dataset = dataset.map(parse_function, num_parallel_calls=AUTOTUNE)\n",
        "    \n",
        "    if is_training == True:\n",
        "        # This is a small dataset, only load it once, and keep it in memory.\n",
        "        dataset = dataset.cache()\n",
        "        # Shuffle the data each buffer size\n",
        "        dataset = dataset.shuffle(buffer_size=SHUFFLE_BUFFER_SIZE)\n",
        "        \n",
        "    # Batch the data for multiple steps\n",
        "    dataset = dataset.batch(BATCH_SIZE)\n",
        "    # Fetch batches in the background while the model is training.\n",
        "    dataset = dataset.prefetch(buffer_size=AUTOTUNE)\n",
        "    \n",
        "    return dataset\n"
      ],
      "execution_count": null,
      "outputs": []
    },
    {
      "cell_type": "code",
      "metadata": {
        "id": "TVjyk-2KPE5c"
      },
      "source": [
        "filenames = np.array([\"imgs/{}.png\".format(i) for i in range(train.shape[0])])"
      ],
      "execution_count": null,
      "outputs": []
    },
    {
      "cell_type": "markdown",
      "metadata": {
        "id": "rOkV3yfwqPae"
      },
      "source": [
        "Split train and validation sets:"
      ]
    },
    {
      "cell_type": "code",
      "metadata": {
        "id": "_DkdpZkIeNYS"
      },
      "source": [
        "from sklearn.model_selection import train_test_split\n",
        "X_train, X_val, y_train, y_val = train_test_split(filenames, y, test_size=0.1, random_state=0)"
      ],
      "execution_count": null,
      "outputs": []
    },
    {
      "cell_type": "code",
      "metadata": {
        "id": "qIGfjvgaPqnT"
      },
      "source": [
        "train_ds = create_dataset(X_train, y_train)\n",
        "val_ds = create_dataset(X_val, y_val)"
      ],
      "execution_count": null,
      "outputs": []
    },
    {
      "cell_type": "markdown",
      "metadata": {
        "id": "E1UaVP-iustL"
      },
      "source": [
        "Use Tensorflow Hub to get pretrained inception_v3 model:"
      ]
    },
    {
      "cell_type": "code",
      "metadata": {
        "id": "d2vKeiMUds9U"
      },
      "source": [
        "import tensorflow_hub as hub\n",
        "\n",
        "feature_extractor_url = \"https://tfhub.dev/google/imagenet/inception_v3/feature_vector/4\"\n",
        "feature_extractor_layer = hub.KerasLayer(feature_extractor_url,\n",
        "                                         input_shape=(IMG_SIZE,IMG_SIZE,CHANNELS))"
      ],
      "execution_count": null,
      "outputs": []
    },
    {
      "cell_type": "code",
      "metadata": {
        "id": "U6D_h9LuerFg"
      },
      "source": [
        "feature_extractor_layer.trainable = False"
      ],
      "execution_count": null,
      "outputs": []
    },
    {
      "cell_type": "code",
      "metadata": {
        "id": "nfTQkUDze6AL"
      },
      "source": [
        "from tensorflow.keras import layers\n",
        "from tensorflow.keras.losses import BinaryCrossentropy"
      ],
      "execution_count": null,
      "outputs": []
    },
    {
      "cell_type": "code",
      "metadata": {
        "id": "ispndrZZeunQ",
        "outputId": "d86cfe25-2004-4b7c-84f6-bcdb4622774f",
        "colab": {
          "base_uri": "https://localhost:8080/",
          "height": 255
        }
      },
      "source": [
        "model = tf.keras.Sequential([\n",
        "    feature_extractor_layer,\n",
        "    layers.Dense(1024, activation='relu', name='hidden_layer'),\n",
        "    layers.Dense(len(vocabulary), activation='sigmoid', name='output')\n",
        "])\n",
        "\n",
        "model.summary()"
      ],
      "execution_count": null,
      "outputs": [
        {
          "output_type": "stream",
          "text": [
            "Model: \"sequential\"\n",
            "_________________________________________________________________\n",
            "Layer (type)                 Output Shape              Param #   \n",
            "=================================================================\n",
            "keras_layer (KerasLayer)     (None, 2048)              21802784  \n",
            "_________________________________________________________________\n",
            "hidden_layer (Dense)         (None, 1024)              2098176   \n",
            "_________________________________________________________________\n",
            "output (Dense)               (None, 109)               111725    \n",
            "=================================================================\n",
            "Total params: 24,012,685\n",
            "Trainable params: 2,209,901\n",
            "Non-trainable params: 21,802,784\n",
            "_________________________________________________________________\n"
          ],
          "name": "stdout"
        }
      ]
    },
    {
      "cell_type": "code",
      "metadata": {
        "id": "WYXzKkqFficb"
      },
      "source": [
        "LR = 1e-5 \n",
        "EPOCHS = 8\n",
        "model.compile(\n",
        "  optimizer=tf.keras.optimizers.Adam(learning_rate=LR),\n",
        "  loss=BinaryCrossentropy(),\n",
        "  metrics=[\"accuracy\"])"
      ],
      "execution_count": null,
      "outputs": []
    },
    {
      "cell_type": "markdown",
      "metadata": {
        "id": "J1183sC7qUyM"
      },
      "source": [
        "Start Training:"
      ]
    },
    {
      "cell_type": "code",
      "metadata": {
        "id": "92IeVuMqf_jv",
        "outputId": "6953ed68-7bfd-48ff-9cab-a6e754ebd4eb",
        "colab": {
          "base_uri": "https://localhost:8080/",
          "height": 289
        }
      },
      "source": [
        "from time import time\n",
        "history = model.fit(train_ds,\n",
        "                    epochs=EPOCHS,\n",
        "                    validation_data=val_ds)"
      ],
      "execution_count": null,
      "outputs": [
        {
          "output_type": "stream",
          "text": [
            "Epoch 1/8\n",
            "61/61 [==============================] - 31s 501ms/step - loss: 0.5745 - accuracy: 0.0062 - val_loss: 0.4217 - val_accuracy: 0.0116\n",
            "Epoch 2/8\n",
            "61/61 [==============================] - 26s 425ms/step - loss: 0.3125 - accuracy: 0.0142 - val_loss: 0.2195 - val_accuracy: 0.0116\n",
            "Epoch 3/8\n",
            "61/61 [==============================] - 26s 428ms/step - loss: 0.1772 - accuracy: 0.0260 - val_loss: 0.1449 - val_accuracy: 0.0463\n",
            "Epoch 4/8\n",
            "61/61 [==============================] - 26s 427ms/step - loss: 0.1343 - accuracy: 0.0631 - val_loss: 0.1231 - val_accuracy: 0.0625\n",
            "Epoch 5/8\n",
            "61/61 [==============================] - 26s 427ms/step - loss: 0.1210 - accuracy: 0.0693 - val_loss: 0.1156 - val_accuracy: 0.0602\n",
            "Epoch 6/8\n",
            "61/61 [==============================] - 26s 425ms/step - loss: 0.1160 - accuracy: 0.0711 - val_loss: 0.1123 - val_accuracy: 0.0602\n",
            "Epoch 7/8\n",
            "61/61 [==============================] - 26s 423ms/step - loss: 0.1136 - accuracy: 0.0754 - val_loss: 0.1106 - val_accuracy: 0.0625\n",
            "Epoch 8/8\n",
            "61/61 [==============================] - 26s 423ms/step - loss: 0.1123 - accuracy: 0.0762 - val_loss: 0.1095 - val_accuracy: 0.0625\n"
          ],
          "name": "stdout"
        }
      ]
    },
    {
      "cell_type": "code",
      "metadata": {
        "id": "5PjBCW5DmvWO"
      },
      "source": [
        "val_preds = model.predict(val_ds)"
      ],
      "execution_count": null,
      "outputs": []
    },
    {
      "cell_type": "markdown",
      "metadata": {
        "id": "8kHjZBEHqZHk"
      },
      "source": [
        "Let's sanity check some outputs:"
      ]
    },
    {
      "cell_type": "code",
      "metadata": {
        "id": "ilfGGMiBr9cu"
      },
      "source": [
        "ind = 64"
      ],
      "execution_count": null,
      "outputs": []
    },
    {
      "cell_type": "code",
      "metadata": {
        "id": "vgTBhCQcohpb",
        "outputId": "fe08eabd-0044-49f6-9236-78a9fecc6f30",
        "colab": {
          "base_uri": "https://localhost:8080/",
          "height": 85
        }
      },
      "source": [
        "for i in np.argpartition(val_preds[ind], -4)[-4:]: #This gets the indices of top four predictions\n",
        "  print(vocabulary[i])"
      ],
      "execution_count": null,
      "outputs": [
        {
          "output_type": "stream",
          "text": [
            "floral\n",
            "herbal\n",
            "fruity\n",
            "woody\n"
          ],
          "name": "stdout"
        }
      ]
    },
    {
      "cell_type": "code",
      "metadata": {
        "id": "iONztNlSopmX",
        "outputId": "f1251212-7657-4a04-c612-a3543a701bd1",
        "colab": {
          "base_uri": "https://localhost:8080/",
          "height": 35
        }
      },
      "source": [
        "filename = X_val[ind]\n",
        "train.SENTENCE.iloc[int(filename[5:-4])]"
      ],
      "execution_count": null,
      "outputs": [
        {
          "output_type": "execute_result",
          "data": {
            "application/vnd.google.colaboratory.intrinsic+json": {
              "type": "string"
            },
            "text/plain": [
              "'oily,fruity'"
            ]
          },
          "metadata": {
            "tags": []
          },
          "execution_count": 30
        }
      ]
    },
    {
      "cell_type": "markdown",
      "metadata": {
        "id": "WY9jzxp0vxcJ"
      },
      "source": [
        "Looks like the model is overfitting; let's submit predictions anyway."
      ]
    },
    {
      "cell_type": "markdown",
      "metadata": {
        "id": "4lfIFPU4qvcB"
      },
      "source": [
        "Now load the test set and make predictions:"
      ]
    },
    {
      "cell_type": "code",
      "metadata": {
        "id": "gdpTRGkOLeA8"
      },
      "source": [
        "filenames_test = [\"imgs_test/{}.png\".format(i) for i in range(test.shape[0])]\n",
        "imgs_test = np.zeros((len(filenames_test), 256,256,3))\n",
        "i = 0\n",
        "for filename in filenames_test:\n",
        "  imgs_test[i] = parse_function(filename,0)[0]\n",
        "  i += 1"
      ],
      "execution_count": null,
      "outputs": []
    },
    {
      "cell_type": "code",
      "metadata": {
        "id": "ns5PC60HaNCS"
      },
      "source": [
        "preds_test = model.predict(imgs_test)"
      ],
      "execution_count": null,
      "outputs": []
    },
    {
      "cell_type": "markdown",
      "metadata": {
        "id": "hfzr2Gigq1Me"
      },
      "source": [
        "In this part we take the top 15 predictions and convert them to sentence format for submission:"
      ]
    },
    {
      "cell_type": "code",
      "metadata": {
        "id": "1gZZhpehs4U_"
      },
      "source": [
        "predictions = []\n",
        "for i in range(preds_test.shape[0]):\n",
        "  top_15 = np.argpartition(preds_test[i], -15)[-15:] #Get indices of top 15 predictions\n",
        "  top_15_voc = [vocabulary[i] for i in top_15] #Get words from those indices\n",
        "  pred_string = \"\"\n",
        "  for i in range(0,15,3):\n",
        "    pred_string += ','.join(top_15_voc[i:i+3]) + ';'\n",
        "  predictions.append(pred_string[:-1]) "
      ],
      "execution_count": null,
      "outputs": []
    },
    {
      "cell_type": "code",
      "metadata": {
        "id": "Wh_F84Mldl3Y"
      },
      "source": [
        "sample_submission.PREDICTIONS = predictions"
      ],
      "execution_count": null,
      "outputs": []
    },
    {
      "cell_type": "code",
      "metadata": {
        "id": "qh94YpmOdtv9"
      },
      "source": [
        "sample_submission.to_csv(\"CNN_submission.csv\",index=None)"
      ],
      "execution_count": null,
      "outputs": []
    },
    {
      "cell_type": "markdown",
      "metadata": {
        "id": "_duYVaTvx-ZK"
      },
      "source": [
        "This was a simple guide exploring CNNs in the context of this competition and getting started with a simple pipeline.<br>If you have suggestions/improvements I'm all ears."
      ]
    }
  ]
}